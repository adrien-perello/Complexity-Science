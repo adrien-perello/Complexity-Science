{
 "cells": [
  {
   "cell_type": "code",
   "execution_count": 1,
   "id": "8db1697d",
   "metadata": {},
   "outputs": [],
   "source": [
    "import numpy as np\n",
    "from scipy.integrate import odeint, solve_ivp\n",
    "import matplotlib.pyplot as plt"
   ]
  },
  {
   "cell_type": "markdown",
   "id": "58df892d",
   "metadata": {},
   "source": [
    "&nbsp;\n",
    "\n",
    "$ay'' + by' + cy = 0$ \n",
    "\n",
    "&nbsp;\n",
    "\n",
    "We assume this really is a 2nd order equation ($a \\neq 0$). We can rewrite the equation:\n",
    "\n",
    "$y'' = -\\frac{b}{a}y' - \\frac{c}{a}y$ \n",
    "\n",
    "&nbsp;\n",
    "\n",
    "This 2nd order equation is equivalent to the following system of ODEs\n",
    "\n",
    "$\n",
    "\\begin{cases}\n",
    "z_1' = z_2 \\\\\n",
    "z_2' = -\\frac{b}{a}z_2 - \\frac{c}{a}z_1\n",
    "\\end{cases}\n",
    "~~~~~~~~~~~\n",
    "\\text{with}\n",
    "\\begin{bmatrix} z_1 \\\\ z_2 \\end{bmatrix} = \n",
    "\\begin{bmatrix}y \\\\ y' \\end{bmatrix}\n",
    "$\n",
    "\n",
    "&nbsp;\n",
    "\n",
    "Rewritten using Linear algebra:\n",
    "\n",
    "$\\frac{d}{dt}\n",
    "\\begin{bmatrix} z_1 \\\\ z_2 \\end{bmatrix} = \n",
    "\\begin{bmatrix} 0 & 1 \\\\ \\frac{-c}{a} & \\frac{-b}{a} \\end{bmatrix}\n",
    "\\begin{bmatrix} z_1 \\\\ z_2 \\end{bmatrix}$"
   ]
  },
  {
   "cell_type": "code",
   "execution_count": 194,
   "id": "f49ff900",
   "metadata": {},
   "outputs": [],
   "source": [
    "# parameters\n",
    "a = 1\n",
    "b = 3\n",
    "c = 2"
   ]
  },
  {
   "cell_type": "code",
   "execution_count": 195,
   "id": "00db8ca3",
   "metadata": {},
   "outputs": [],
   "source": [
    "# time array\n",
    "t0 = 0\n",
    "tf = 20\n",
    "step = 0.1\n",
    "t = np.arange(t0, tf, step)"
   ]
  },
  {
   "cell_type": "code",
   "execution_count": 196,
   "id": "cc2364cd",
   "metadata": {},
   "outputs": [],
   "source": [
    "# initial values\n",
    "z1_ini = 10  # i.e. y(0) = 0\n",
    "z2_ini = 0  # i.e. y'(0) = 0\n",
    "z0 = np.array([z1_ini, z2_ini])"
   ]
  },
  {
   "cell_type": "code",
   "execution_count": 197,
   "id": "62c260ae",
   "metadata": {},
   "outputs": [],
   "source": [
    "p = -b/a\n",
    "q = -c/a\n",
    "\n",
    "# using solve_ivp\n",
    "def char_eq_bis(t, z):\n",
    "    z1, z2 = z\n",
    "    dz1dt = z2\n",
    "    dz2dt = p*z2 + q*z1\n",
    "    return [dz1dt, dz2dt]\n",
    "\n",
    "z = solve_ivp(char_eq_bis, [t0, tf], z0, t_eval=t).y\n",
    "position = z[0]\n",
    "velocity = z[1]\n",
    "\n",
    "\n",
    "# # Using odeint\n",
    "# def char_eq(z, t):\n",
    "#     z1, z2 = z\n",
    "#     dz1dt = z2\n",
    "#     dz2dt = p*z2 + q*z1\n",
    "#     return [dz1dt, dz2dt]\n",
    "\n",
    "# z_bis = odeint(char_eq, z0, t)\n",
    "# position_bis = z_bis[:, 0]\n",
    "# velocity_bis = z_bis[:, 1]\n"
   ]
  },
  {
   "cell_type": "markdown",
   "id": "f1aeff0a",
   "metadata": {},
   "source": [
    "## Roots\n",
    "\n",
    "$$ax^2+ bx+ c = 0$$\n",
    "\n",
    "\n",
    "$$r_1, r_2=\\frac{-b\\pm \\sqrt{b^2 -4ac}}{2a}$$"
   ]
  },
  {
   "cell_type": "code",
   "execution_count": 198,
   "id": "51ea39ff",
   "metadata": {},
   "outputs": [
    {
     "data": {
      "text/plain": [
       "array([-2., -1.])"
      ]
     },
     "execution_count": 198,
     "metadata": {},
     "output_type": "execute_result"
    }
   ],
   "source": [
    "eq_roots = np.roots([a, b, c])\n",
    "eq_roots"
   ]
  },
  {
   "cell_type": "code",
   "execution_count": 199,
   "id": "be4c1245",
   "metadata": {},
   "outputs": [
    {
     "data": {
      "image/png": "[encoded data removed]",
      "text/plain": [
       "<Figure size 432x288 with 1 Axes>"
      ]
     },
     "metadata": {
      "needs_background": "light"
     },
     "output_type": "display_data"
    }
   ],
   "source": [
    "for r in eq_roots:\n",
    "    x, y = r.real, r.imag\n",
    "    label = '{:.3g}'.format(r)\n",
    "    plt.plot(x, y, 'bo')\n",
    "    plt.quiver(0, 0, x, y,\n",
    "               angles='xy', scale_units='xy', scale=1,\n",
    "               width=0.003, headwidth=10, headlength=10)\n",
    "    plt.annotate(label, (x,y))\n",
    "    \n",
    "plt.grid()\n",
    "plt.axhline(y=0, color='k')\n",
    "plt.axvline(x=0, color='k')\n",
    "plt.show()"
   ]
  },
  {
   "cell_type": "markdown",
   "id": "3fffafa7",
   "metadata": {},
   "source": [
    "## Position & Velocity"
   ]
  },
  {
   "cell_type": "code",
   "execution_count": 200,
   "id": "d800d340",
   "metadata": {},
   "outputs": [
    {
     "data": {
      "image/png": "[encoded data removed]",
      "text/plain": [
       "<Figure size 432x288 with 1 Axes>"
      ]
     },
     "metadata": {
      "needs_background": "light"
     },
     "output_type": "display_data"
    }
   ],
   "source": [
    "plt.plot(t, position, label='position')\n",
    "plt.plot(t, velocity, label='velocity')\n",
    "plt.legend(loc='best')\n",
    "plt.show()"
   ]
  },
  {
   "cell_type": "markdown",
   "id": "c4382d5a",
   "metadata": {},
   "source": [
    "## Phase space"
   ]
  },
  {
   "cell_type": "code",
   "execution_count": 201,
   "id": "7224dac5",
   "metadata": {},
   "outputs": [
    {
     "data": {
      "image/png": "[encoded data removed]",
      "text/plain": [
       "<Figure size 432x288 with 1 Axes>"
      ]
     },
     "metadata": {
      "needs_background": "light"
     },
     "output_type": "display_data"
    }
   ],
   "source": [
    "# phase space\n",
    "plt.plot(position, velocity)\n",
    "plt.xlabel('position')\n",
    "plt.ylabel('velocity')\n",
    "plt.show()"
   ]
  },
  {
   "cell_type": "markdown",
   "id": "f9b1d91d",
   "metadata": {},
   "source": [
    "## Matrix"
   ]
  },
  {
   "cell_type": "code",
   "execution_count": 202,
   "id": "bacec45e",
   "metadata": {},
   "outputs": [],
   "source": [
    "from sympy import Matrix"
   ]
  },
  {
   "cell_type": "code",
   "execution_count": 229,
   "id": "d5087efc",
   "metadata": {},
   "outputs": [
    {
     "data": {
      "text/latex": [
       "$\\displaystyle \\left[\\begin{matrix}1 & 1 & 1 & 1\\\\2 & 1 & 4 & 3\\\\3 & 4 & 1 & 2\\end{matrix}\\right]$"
      ],
      "text/plain": [
       "Matrix([\n",
       "[1, 1, 1, 1],\n",
       "[2, 1, 4, 3],\n",
       "[3, 4, 1, 2]])"
      ]
     },
     "execution_count": 229,
     "metadata": {},
     "output_type": "execute_result"
    }
   ],
   "source": [
    "mx = Matrix([[1,1,1,1], [2,1,4,3], [3,4,1,2]])\n",
    "mx"
   ]
  },
  {
   "cell_type": "code",
   "execution_count": 230,
   "id": "d07a55bd",
   "metadata": {},
   "outputs": [
    {
     "data": {
      "text/latex": [
       "$\\displaystyle \\left[\\begin{matrix}1 & 0 & 3 & 2\\\\0 & 1 & -2 & -1\\\\0 & 0 & 0 & 0\\end{matrix}\\right]$"
      ],
      "text/plain": [
       "Matrix([\n",
       "[1, 0,  3,  2],\n",
       "[0, 1, -2, -1],\n",
       "[0, 0,  0,  0]])"
      ]
     },
     "execution_count": 230,
     "metadata": {},
     "output_type": "execute_result"
    }
   ],
   "source": [
    "mx.rref()[0]"
   ]
  },
  {
   "cell_type": "code",
   "execution_count": 231,
   "id": "68e61faa",
   "metadata": {},
   "outputs": [
    {
     "name": "stdout",
     "output_type": "stream",
     "text": [
      "Matrix([[-3], [2], [1], [0]])\n",
      "Matrix([[-2], [1], [0], [1]])\n"
     ]
    }
   ],
   "source": [
    "for mat in mx.nullspace():\n",
    "    print(mat)"
   ]
  },
  {
   "cell_type": "code",
   "execution_count": 242,
   "id": "48e68048",
   "metadata": {},
   "outputs": [
    {
     "data": {
      "text/latex": [
       "$\\displaystyle \\left[\\begin{matrix}-3\\\\2\\\\1\\\\0\\end{matrix}\\right]$"
      ],
      "text/plain": [
       "Matrix([\n",
       "[-3],\n",
       "[ 2],\n",
       "[ 1],\n",
       "[ 0]])"
      ]
     },
     "execution_count": 242,
     "metadata": {},
     "output_type": "execute_result"
    }
   ],
   "source": [
    "mx.nullspace()[0]"
   ]
  },
  {
   "cell_type": "code",
   "execution_count": 236,
   "id": "cfc05b12",
   "metadata": {},
   "outputs": [
    {
     "data": {
      "text/plain": [
       "array([[1., 1., 1., 1.],\n",
       "       [2., 1., 4., 3.],\n",
       "       [3., 4., 1., 2.]])"
      ]
     },
     "execution_count": 236,
     "metadata": {},
     "output_type": "execute_result"
    }
   ],
   "source": [
    "np.array(mx).astype(np.float64)"
   ]
  },
  {
   "cell_type": "code",
   "execution_count": 238,
   "id": "2b412337",
   "metadata": {},
   "outputs": [
    {
     "data": {
      "text/plain": [
       "array([[[-3.],\n",
       "        [ 2.],\n",
       "        [ 1.],\n",
       "        [ 0.]],\n",
       "\n",
       "       [[-2.],\n",
       "        [ 1.],\n",
       "        [ 0.],\n",
       "        [ 1.]]])"
      ]
     },
     "execution_count": 238,
     "metadata": {},
     "output_type": "execute_result"
    }
   ],
   "source": [
    "np.array(mx.nullspace()).astype(np.float64)"
   ]
  },
  {
   "cell_type": "code",
   "execution_count": 232,
   "id": "0dae2427",
   "metadata": {},
   "outputs": [
    {
     "name": "stdout",
     "output_type": "stream",
     "text": [
      "Matrix([[1], [2], [3]])\n",
      "Matrix([[1], [1], [4]])\n"
     ]
    }
   ],
   "source": [
    "for mat in mx.columnspace():\n",
    "    print(mat)"
   ]
  },
  {
   "cell_type": "code",
   "execution_count": 224,
   "id": "211058f7",
   "metadata": {},
   "outputs": [
    {
     "ename": "NonSquareMatrixError",
     "evalue": "Matrix([[1, 1, 1, 1], [1, 2, 3, 4], [4, 3, 2, 1]]) must be a square matrix.",
     "output_type": "error",
     "traceback": [
      "\u001b[0;31m---------------------------------------------------------------------------\u001b[0m",
      "\u001b[0;31mNonSquareMatrixError\u001b[0m                      Traceback (most recent call last)",
      "\u001b[0;32m<ipython-input-224-d55aab9c383e>\u001b[0m in \u001b[0;36m<module>\u001b[0;34m\u001b[0m\n\u001b[0;32m----> 1\u001b[0;31m \u001b[0mmx\u001b[0m\u001b[0;34m.\u001b[0m\u001b[0meigenvals\u001b[0m\u001b[0;34m(\u001b[0m\u001b[0;34m)\u001b[0m\u001b[0;34m\u001b[0m\u001b[0;34m\u001b[0m\u001b[0m\n\u001b[0m",
      "\u001b[0;32m~/Documents/Apps/Miniconda/miniconda3/envs/minimal-env/lib/python3.9/site-packages/sympy/matrices/matrices.py\u001b[0m in \u001b[0;36meigenvals\u001b[0;34m(self, error_when_incomplete, **flags)\u001b[0m\n\u001b[1;32m    372\u001b[0m \u001b[0;34m\u001b[0m\u001b[0m\n\u001b[1;32m    373\u001b[0m     \u001b[0;32mdef\u001b[0m \u001b[0meigenvals\u001b[0m\u001b[0;34m(\u001b[0m\u001b[0mself\u001b[0m\u001b[0;34m,\u001b[0m \u001b[0merror_when_incomplete\u001b[0m\u001b[0;34m=\u001b[0m\u001b[0;32mTrue\u001b[0m\u001b[0;34m,\u001b[0m \u001b[0;34m**\u001b[0m\u001b[0mflags\u001b[0m\u001b[0;34m)\u001b[0m\u001b[0;34m:\u001b[0m\u001b[0;34m\u001b[0m\u001b[0;34m\u001b[0m\u001b[0m\n\u001b[0;32m--> 374\u001b[0;31m         \u001b[0;32mreturn\u001b[0m \u001b[0m_eigenvals\u001b[0m\u001b[0;34m(\u001b[0m\u001b[0mself\u001b[0m\u001b[0;34m,\u001b[0m \u001b[0merror_when_incomplete\u001b[0m\u001b[0;34m=\u001b[0m\u001b[0merror_when_incomplete\u001b[0m\u001b[0;34m,\u001b[0m \u001b[0;34m**\u001b[0m\u001b[0mflags\u001b[0m\u001b[0;34m)\u001b[0m\u001b[0;34m\u001b[0m\u001b[0;34m\u001b[0m\u001b[0m\n\u001b[0m\u001b[1;32m    375\u001b[0m \u001b[0;34m\u001b[0m\u001b[0m\n\u001b[1;32m    376\u001b[0m     \u001b[0;32mdef\u001b[0m \u001b[0meigenvects\u001b[0m\u001b[0;34m(\u001b[0m\u001b[0mself\u001b[0m\u001b[0;34m,\u001b[0m \u001b[0merror_when_incomplete\u001b[0m\u001b[0;34m=\u001b[0m\u001b[0;32mTrue\u001b[0m\u001b[0;34m,\u001b[0m \u001b[0miszerofunc\u001b[0m\u001b[0;34m=\u001b[0m\u001b[0m_iszero\u001b[0m\u001b[0;34m,\u001b[0m \u001b[0;34m**\u001b[0m\u001b[0mflags\u001b[0m\u001b[0;34m)\u001b[0m\u001b[0;34m:\u001b[0m\u001b[0;34m\u001b[0m\u001b[0;34m\u001b[0m\u001b[0m\n",
      "\u001b[0;32m~/Documents/Apps/Miniconda/miniconda3/envs/minimal-env/lib/python3.9/site-packages/sympy/matrices/eigen.py\u001b[0m in \u001b[0;36m_eigenvals\u001b[0;34m(M, error_when_incomplete, simplify, multiple, rational, **flags)\u001b[0m\n\u001b[1;32m    166\u001b[0m \u001b[0;34m\u001b[0m\u001b[0m\n\u001b[1;32m    167\u001b[0m     \u001b[0;32mif\u001b[0m \u001b[0;32mnot\u001b[0m \u001b[0mM\u001b[0m\u001b[0;34m.\u001b[0m\u001b[0mis_square\u001b[0m\u001b[0;34m:\u001b[0m\u001b[0;34m\u001b[0m\u001b[0;34m\u001b[0m\u001b[0m\n\u001b[0;32m--> 168\u001b[0;31m         \u001b[0;32mraise\u001b[0m \u001b[0mNonSquareMatrixError\u001b[0m\u001b[0;34m(\u001b[0m\u001b[0;34m\"{} must be a square matrix.\"\u001b[0m\u001b[0;34m.\u001b[0m\u001b[0mformat\u001b[0m\u001b[0;34m(\u001b[0m\u001b[0mM\u001b[0m\u001b[0;34m)\u001b[0m\u001b[0;34m)\u001b[0m\u001b[0;34m\u001b[0m\u001b[0;34m\u001b[0m\u001b[0m\n\u001b[0m\u001b[1;32m    169\u001b[0m \u001b[0;34m\u001b[0m\u001b[0m\n\u001b[1;32m    170\u001b[0m     \u001b[0;32mif\u001b[0m \u001b[0mM\u001b[0m\u001b[0;34m.\u001b[0m\u001b[0mis_upper\u001b[0m \u001b[0;32mor\u001b[0m \u001b[0mM\u001b[0m\u001b[0;34m.\u001b[0m\u001b[0mis_lower\u001b[0m\u001b[0;34m:\u001b[0m\u001b[0;34m\u001b[0m\u001b[0;34m\u001b[0m\u001b[0m\n",
      "\u001b[0;31mNonSquareMatrixError\u001b[0m: Matrix([[1, 1, 1, 1], [1, 2, 3, 4], [4, 3, 2, 1]]) must be a square matrix."
     ]
    }
   ],
   "source": [
    "mx.eigenvals()"
   ]
  },
  {
   "cell_type": "markdown",
   "id": "fea11cf0",
   "metadata": {},
   "source": [
    "# Logistic differential equations\n",
    "\n",
    "&nbsp;\n",
    "\n",
    "$$y' = ry(1 - \\frac{y}{k})$$\n",
    "\n"
   ]
  },
  {
   "cell_type": "code",
   "execution_count": null,
   "id": "e17eeb9b",
   "metadata": {},
   "outputs": [],
   "source": []
  }
 ],
 "metadata": {
  "kernelspec": {
   "display_name": "Python 3",
   "language": "python",
   "name": "python3"
  },
  "language_info": {
   "codemirror_mode": {
    "name": "ipython",
    "version": 3
   },
   "file_extension": ".py",
   "mimetype": "text/x-python",
   "name": "python",
   "nbconvert_exporter": "python",
   "pygments_lexer": "ipython3",
   "version": "3.9.2"
  }
 },
 "nbformat": 4,
 "nbformat_minor": 5
}
