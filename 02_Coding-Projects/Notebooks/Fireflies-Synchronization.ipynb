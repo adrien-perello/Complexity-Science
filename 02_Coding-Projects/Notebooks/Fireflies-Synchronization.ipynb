{
 "cells": [
  {
   "cell_type": "markdown",
   "metadata": {
    "toc": true
   },
   "source": [
    "<h1>Table of Contents<span class=\"tocSkip\"></span></h1>\n",
    "<div class=\"toc\"><ul class=\"toc-item\"><li><span><a href=\"#Utility-Scripts\" data-toc-modified-id=\"Utility-Scripts-1\"><span class=\"toc-item-num\">1&nbsp;&nbsp;</span>Utility Scripts</a></span></li><li><span><a href=\"#Modeling-rationale\" data-toc-modified-id=\"Modeling-rationale-2\"><span class=\"toc-item-num\">2&nbsp;&nbsp;</span>Modeling rationale</a></span><ul class=\"toc-item\"><li><span><a href=\"#The-internal-clock\" data-toc-modified-id=\"The-internal-clock-2.1\"><span class=\"toc-item-num\">2.1&nbsp;&nbsp;</span>The internal clock</a></span></li><li><span><a href=\"#Synchronization-process\" data-toc-modified-id=\"Synchronization-process-2.2\"><span class=\"toc-item-num\">2.2&nbsp;&nbsp;</span>Synchronization process</a></span></li></ul></li><li><span><a href=\"#Cellular-Automata-modeling\" data-toc-modified-id=\"Cellular-Automata-modeling-3\"><span class=\"toc-item-num\">3&nbsp;&nbsp;</span>Cellular Automata modeling</a></span><ul class=\"toc-item\"><li><span><a href=\"#Parameters-of-the-simulation\" data-toc-modified-id=\"Parameters-of-the-simulation-3.1\"><span class=\"toc-item-num\">3.1&nbsp;&nbsp;</span>Parameters of the simulation</a></span></li><li><span><a href=\"#Simulation-script\" data-toc-modified-id=\"Simulation-script-3.2\"><span class=\"toc-item-num\">3.2&nbsp;&nbsp;</span>Simulation script</a></span></li></ul></li></ul></div>"
   ]
  },
  {
   "cell_type": "code",
   "execution_count": 1,
   "metadata": {
    "hide_input": false
   },
   "outputs": [],
   "source": [
    "# before everything, import these libraries (Shift-Enter)\n",
    "import numpy as np\n",
    "import xarray as xr\n",
    "import plotly.graph_objects as go\n",
    "import ipywidgets as widgets\n",
    "from fractions import Fraction\n",
    "from scipy.ndimage.filters import generic_filter\n",
    "from IPython.lib.display import YouTubeVideo\n",
    "from dataclasses import dataclass"
   ]
  },
  {
   "cell_type": "markdown",
   "metadata": {},
   "source": [
    "# II. Coding Projects > Fireflies synchronization\n",
    "\n",
    "\n",
    "<hr>\n",
    "&nbsp;"
   ]
  },
  {
   "cell_type": "code",
   "execution_count": 12,
   "metadata": {
    "hide_input": true,
    "scrolled": true,
    "tags": []
   },
   "outputs": [
    {
     "data": {
      "text/html": [
       "\n",
       "        <iframe\n",
       "            width=\"560\"\n",
       "            height=\"315\"\n",
       "            src=\"https://www.youtube.com/embed/https://www.youtube.com/watch?v=d77GdblhvEo\"\n",
       "            frameborder=\"0\"\n",
       "            allowfullscreen\n",
       "        ></iframe>\n",
       "        "
      ],
      "text/plain": [
       "<IPython.lib.display.YouTubeVideo at 0x7fc6ca4c5d00>"
      ]
     },
     "execution_count": 12,
     "metadata": {},
     "output_type": "execute_result"
    }
   ],
   "source": [
    "YouTubeVideo('https://www.youtube.com/watch?v=d77GdblhvEo',width=560,height=315)"
   ]
  },
  {
   "cell_type": "markdown",
   "metadata": {
    "tags": []
   },
   "source": [
    "## Utility Scripts"
   ]
  },
  {
   "cell_type": "code",
   "execution_count": 3,
   "metadata": {},
   "outputs": [],
   "source": [
    "@dataclass\n",
    "class Slider:\n",
    "    \"\"\"Represent a range of (linear) values as both:\n",
    "    - an np.array \n",
    "    - an ipywidget.Floatslider\n",
    "    \"\"\"\n",
    "    name: str\n",
    "    start: float\n",
    "    stop: float\n",
    "    step: float\n",
    "    val_ini: float = None\n",
    "\n",
    "    def __post_init__(self):\n",
    "        self.val = nparange(self.start, self.stop, self.step)\n",
    "        if not self.val_ini:\n",
    "            self.val_ini = np.random.choice(self.val, 1)[0]\n",
    "        \n",
    "        self.slider = widgets.FloatSlider(min=self.start,\n",
    "                                        max=self.stop,\n",
    "                                        step=self.step,\n",
    "                                        value=self.val_ini,\n",
    "                                        description=self.name,\n",
    "                                        continuous_update=True)\n",
    "\n",
    "\n",
    "@dataclass\n",
    "class logSlider:\n",
    "    \"\"\"Represent a range of log values as both:\n",
    "    - an np.array \n",
    "    - an ipywidget.FloatLogSlider\n",
    "    \"\"\"\n",
    "    name: str\n",
    "    start: float\n",
    "    stop: float\n",
    "    num: int\n",
    "    val_ini: float = None\n",
    "    base: int = 10\n",
    "    decimals: int = 1\n",
    "\n",
    "    def __post_init__(self):\n",
    "        # create numpy array of all values\n",
    "        self.val = np.around(np.logspace(start=self.start,\n",
    "                                        stop=self.stop,\n",
    "                                        num=self.num, \n",
    "                                        endpoint=True), self.decimals)\n",
    "        # check each value is unique\n",
    "        if self.val.size != np.unique(self.val, return_counts=False).size:\n",
    "            print(f\"WARNING: Repeated values in {self.name}.val\"\n",
    "                \", increase 'decimals' or reduce 'num'\")\n",
    "\n",
    "        # pick initial value if not provided\n",
    "        if not self.val_ini:\n",
    "            self.val_ini = np.random.choice(self.val, 1)[0]\n",
    "\n",
    "        # convert num into step for FloatLogSlider\n",
    "        step = (self.stop - self.start)/(self.num-1)\n",
    "\n",
    "        # create slider\n",
    "        self.slider = widgets.FloatLogSlider(min=self.start,\n",
    "                                    max=self.stop,\n",
    "                                    step=step,\n",
    "                                    value=self.val_ini,\n",
    "                                    base=self.base,\n",
    "                                    description=self.name,\n",
    "                                    readout_format=f'.{self.decimals}f')\n",
    "\n",
    "\n",
    "def nparange(start, stop, step):\n",
    "    \"\"\"Modified np.arange()\n",
    "        - improve float precision (by use of fractions)\n",
    "        - includes endpoint\n",
    "\n",
    "    Args:\n",
    "        start, stop, step: float (stop is included in array)\n",
    "\n",
    "    Returns:\n",
    "        ndarray\n",
    "    \"\"\"\n",
    "    delta, zoom  = get_frac(step)\n",
    "    \n",
    "    return np.arange(start * zoom, stop * zoom + delta, delta) / zoom\n",
    "\n",
    "\n",
    "def get_frac(step, readout_format='.16f', atol=1e-12):\n",
    "    precision = \"{:\" + readout_format + \"}\" \n",
    "    frac = Fraction(precision.format(step))\n",
    "    if frac.denominator > 1/atol:\n",
    "        print(\"WARNING: potential Floats inconsistencies due to 'step'\"\n",
    "            \" being an irrational number\")\n",
    "    return (frac.numerator, frac.denominator)\n",
    "\n",
    "\n",
    "gist_heat = [[0.0, \"rgb(0,0,0)\"],\n",
    "                [0.1111111111111111, \"rgb(42,0,0)\"],\n",
    "                [0.2222222222222222, \"rgb(85,0,0)\"],\n",
    "                [0.3333333333333333, \"rgb(128,0,0)\"],\n",
    "                [0.4444444444444444, \"rgb(170,0,0)\"],\n",
    "                [0.5555555555555556, \"rgb(212,28,0)\"],\n",
    "                [0.6666666666666666, \"rgb(255,85,0)\"],\n",
    "                [0.7777777777777778, \"rgb(255,142,28)\"],\n",
    "                [0.8888888888888888, \"rgb(255,198,142)\"],\n",
    "                [1.0, \"rgb(255,255,255)\"]]"
   ]
  },
  {
   "cell_type": "markdown",
   "metadata": {},
   "source": [
    "## Modeling rationale"
   ]
  },
  {
   "cell_type": "markdown",
   "metadata": {},
   "source": [
    "### The internal clock\n",
    "\n",
    "- Each firefly has its own individual internal clock (or phase) $\\theta$\n",
    "- $\\theta$ varies between 0 and 1\n",
    "- $\\theta$ has a period T\n",
    "- Every time the clock reachs 1 (every T times), the firefly flashes \n",
    "- After flashing, the clock is reset to 0\n",
    "\n",
    "$$\\theta(t+1) = \\theta(t) + \\frac{1}{T} \\text{ (mod 1)}$$\n",
    "$$\\Rightarrow  \\theta(t) = \\frac{t}{T} \\text{ (mod 1)}$$"
   ]
  },
  {
   "cell_type": "code",
   "execution_count": 4,
   "metadata": {},
   "outputs": [
    {
     "data": {
      "application/vnd.jupyter.widget-view+json": {
       "model_id": "ddca1a3e818245f1b9fbb415e8d78ca6",
       "version_major": 2,
       "version_minor": 0
      },
      "text/plain": [
       "VBox(children=(FloatSlider(value=9.0, description='period T', max=10.0, min=1.0, step=1.0), FigureWidget({\n",
       "   …"
      ]
     },
     "metadata": {},
     "output_type": "display_data"
    }
   ],
   "source": [
    "# Let's visualize what we just said\n",
    "\n",
    "# set the variable\n",
    "t1 = np.linspace(0, 10, 1000)  # time array\n",
    "\n",
    "# Set a slider to check the influence of the resetting strength\n",
    "T1 = Slider(name='period T', start=1, stop=10, step=1)\n",
    "\n",
    "# Set an xarray for all (time, amplitude) value combinations\n",
    "f1= lambda t, T: np.mod(t/T, 1)\n",
    "tt1, TT = np.meshgrid(t1, T1.val)\n",
    "y1 = xr.DataArray(f1(tt1, TT),\n",
    "            dims=['T', 't'],\n",
    "            coords={'T': T1.val, 't': t1})\n",
    "\n",
    "\n",
    "# Set the graph\n",
    "trace0 = go.Scatter(x=t1, \n",
    "                    y=y1.sel(T=T1.val_ini).values)\n",
    "fig1 = go.FigureWidget([trace0])\n",
    "fig1.update_layout(template='none',\n",
    "                    width=800, height=500,\n",
    "                    title=\"Flashes of a single firefly\",\n",
    "                    title_x=0.5,\n",
    "                    xaxis_title=\"t\",\n",
    "                    yaxis_title='θ')\n",
    "\n",
    "\n",
    "# Set the callback to update the graph \n",
    "def update1(change):\n",
    "    fig1.data[0].y = y1.sel(T=change['new']).values\n",
    "\n",
    "\n",
    "# Link the slider and the callback\n",
    "T1.slider.observe(update1, names='value')\n",
    "\n",
    "# Display\n",
    "display(widgets.VBox([T1.slider, fig1]))"
   ]
  },
  {
   "cell_type": "markdown",
   "metadata": {},
   "source": [
    "### Synchronization process\n",
    "\n",
    "- When a firefly flashes, it influences its neighbours\n",
    "- The neighbours slows down or speeds up so as to flash more nearly in\n",
    "phase on the next cycle\n",
    "- A simple model satisfying this hypothesis is:\n",
    "\n",
    "$$$$"
   ]
  },
  {
   "cell_type": "code",
   "execution_count": 5,
   "metadata": {},
   "outputs": [
    {
     "data": {
      "application/vnd.jupyter.widget-view+json": {
       "model_id": "55cfa6d480df41cb887d50d3bc39451d",
       "version_major": 2,
       "version_minor": 0
      },
      "text/plain": [
       "VBox(children=(FloatSlider(value=0.02, description='Amplitude', description_tooltip='Amplitude of the resettin…"
      ]
     },
     "metadata": {},
     "output_type": "display_data"
    }
   ],
   "source": [
    "# set the variable\n",
    "t2 = np.linspace(0,1,1000)  # time array\n",
    "T2 = 200                    # the period\n",
    "\n",
    "# Set a slider to check the influence of the resetting strength\n",
    "A = Slider(name='Amplitude', start=0, stop=0.22, step=0.01)\n",
    "A.slider.description_tooltip = \"Amplitude of the resetting strength\\n \"\\\n",
    "                                \"(it measures the firefly’s ability to \"\\\n",
    "                                \"modify its instantaneous frequency)\"\n",
    "\n",
    "# Set an xarray for all (time, amplitude) value combinations\n",
    "# Option 1: using modulus\n",
    "f2= lambda t, A: np.mod(t + 1/T2 + A*np.sin(2*np.pi*(1.005-t)), 1)\n",
    "tt2, AA = np.meshgrid(t2, A.val)\n",
    "y2 = xr.DataArray(f2(tt2, AA),\n",
    "            dims=['Amplitude', 't'],\n",
    "            coords={'Amplitude': A.val, 't': t2})\n",
    "\n",
    "# Option 2: using a band pass filter (between [0,1])\n",
    "f2bis= lambda t, A: np.clip(t + 1/T2 + A*np.sin(2*np.pi*(1.005-t)), 0, 1)\n",
    "y2bis = xr.DataArray(f2bis(tt2, AA),\n",
    "            dims=['Amplitude', 't'],\n",
    "            coords={'Amplitude': A.val, 't': t2})\n",
    "\n",
    "\n",
    "# Set the graph\n",
    "trace0 = go.Scatter(x=t2, \n",
    "                    y=y2.sel(Amplitude=A.val_ini).values,\n",
    "                    name='with coupling')\n",
    "trace1 = go.Scatter(x=t2,\n",
    "                    y=np.mod(t2+(1/T2),1),\n",
    "                    name='no coupling')\n",
    "trace2 = go.Scatter(x=t2,\n",
    "                    y=y2bis.sel(Amplitude=A.val_ini).values,\n",
    "                    name='with coupling (band-pass)',\n",
    "                    visible='legendonly')\n",
    "fig2 = go.FigureWidget([trace0, trace1, trace2])\n",
    "fig2.update_layout(template='none',\n",
    "                    width=800, height=500,\n",
    "                    title=\"Influence of the resetting strength\",\n",
    "                    title_x=0.5,\n",
    "                    xaxis_title=\"θ<sub>t<sub>\",\n",
    "                    yaxis_title=\"θ<sub>t+1<sub>\",\n",
    "                    legend_title='Click to deselect', \n",
    "                    legend_title_font=dict(size=16),\n",
    "                    legend_title_font_color='FireBrick')\n",
    "\n",
    "\n",
    "# Set the callback to update the graph \n",
    "def update2(change):\n",
    "    with fig2.batch_update():\n",
    "        fig2.data[0].y = y2.sel(Amplitude=change['new']).values\n",
    "        fig2.data[2].y = y2bis.sel(Amplitude=change['new']).values\n",
    "\n",
    "\n",
    "# Link the slider and the callback\n",
    "A.slider.observe(update2, names='value')\n",
    "\n",
    "\n",
    "# Display\n",
    "display(widgets.VBox([A.slider, fig2]))"
   ]
  },
  {
   "cell_type": "markdown",
   "metadata": {},
   "source": [
    "## Cellular Automata modeling"
   ]
  },
  {
   "cell_type": "markdown",
   "metadata": {},
   "source": [
    "### Parameters of the simulation"
   ]
  },
  {
   "cell_type": "code",
   "execution_count": 11,
   "metadata": {},
   "outputs": [],
   "source": [
    "@dataclass\n",
    "class Parameters:\n",
    "    \"\"\"This class contains the parameters of the simulation.\n",
    "    \"\"\"\n",
    "\n",
    "    # Size of the grid\n",
    "    M: int = 10            # number of cells in the x direction\n",
    "    N: int = 10            # number of cells in the y direction\n",
    "    fireflies_density = 1  # how much of the grid is populated\n",
    "\n",
    "    # Coupling parameters\n",
    "    coupling_value: float = 0.1    # float (between 0 and +/- 0.3)\n",
    "    neighbor_distance: float = 3  # Size of neighbourhood radius\n",
    "\n",
    "    # Simulation settings\n",
    "    nb_periods: int = 20\n",
    "    time_step_per_period: int = 100  # dt = 1/time_step_per_period"
   ]
  },
  {
   "cell_type": "code",
   "execution_count": 7,
   "metadata": {},
   "outputs": [],
   "source": [
    "def fireflies_simulator(par):\n",
    "    \"\"\"This function simulates the fireflies system, computes the order\n",
    "    parameter and shows figures of the system state during the simulation.\n",
    "\n",
    "    Args:\n",
    "        - Parameters\n",
    "\n",
    "    Returns:\n",
    "        The value of the order parameter over time\n",
    "    \"\"\"\n",
    "    time_steps = np.arange(start=0,\n",
    "                            stop=par.nb_periods * par.time_step_per_period,\n",
    "                            step=1)\n",
    "    phases = np.zeros((time_steps.size+1, par.N, par.M))  # 1 grid (MxN) per time step\n",
    "    phases[0] = np.random.random((par.N, par.M))          # random initial state\n",
    "\n",
    "    # empty some cells to ensure the right fireflies density\n",
    "    nb_empty_cell = np.around((1-par.fireflies_density)*par.N*par.M, 0).astype(int)\n",
    "    ind = np.random.choice(phases[0].size, size=nb_empty_cell, replace=False)\n",
    "    phases[0].ravel()[ind] = np.nan\n",
    "\n",
    "    neighbors = compute_neighborhood(phases[0], par.N, par.M, par.neighbor_distance)\n",
    "    phase_increment = 1 / par.time_step_per_period\n",
    "\n",
    "    for t in time_steps:\n",
    "        phases[t+1] = phases[t] + phase_increment\n",
    "        glow_idx = np.array(np.nonzero(phases[t+1]>1)).T\n",
    "        ids = [np.ravel_multi_index(tup, (par.N, par.M)) for tup in glow_idx]\n",
    "        for ind in ids:\n",
    "            i,j = np.unravel_index(ind, (par.N, par.M))\n",
    "            phases[t+1][neighbors[ind]] = nudge(phases[t+1][neighbors[ind]], \n",
    "                                                phases[t+1][i,j],\n",
    "                                                par.coupling_value)\n",
    "\n",
    "    return  phases\n",
    "\n",
    "\n",
    "def compute_neighborhood(grid, N, M, r):\n",
    "    \"\"\"For every fireflies, compute a mask array of neighboring fireflies.\n",
    "\n",
    "    Args:\n",
    "        grid (ndarray): phase state of each firefly\n",
    "        N (int): number of cells in the x direction\n",
    "        M (int): number of cells in the y direction\n",
    "        r (float): radius of neighbour_distance\n",
    "\n",
    "    Returns:\n",
    "        dict: keys: index (ravel) of each firefly\n",
    "                values: mask array with neighbour fireflies\n",
    "    \"\"\"\n",
    "    neighbors = dict.fromkeys((range(N*M)), [])\n",
    "    occupied_cells = ~np.isnan(grid)\n",
    "    for i in range(N):\n",
    "        for j in range(M):\n",
    "            if np.isnan(grid[i,j]):\n",
    "                continue\n",
    "            y, x = np.ogrid[-i:N-i, -j:M-j]\n",
    "            mask = (x**2 + y**2 <= r**2)*occupied_cells  # only keep occupied neighboring cells\n",
    "            # mask[i,j] = False                            # don't include the cell istelf\n",
    "            neighbors[np.ravel_multi_index((i,j), (N,M))] = mask\n",
    "    return neighbors\n",
    "\n",
    "\n",
    "def nudge(neighbor_phases, flash_phase, amplitude):\n",
    "    \"\"\"Nudge the neighboring fireflies.\n",
    "\n",
    "    Args:\n",
    "        neighbor_phases (ndarray): phases of all the fireflies to nudge\n",
    "        flash_phase (float): phase of the flashing firefly\n",
    "        amplitude (float): resetting strength / coupling value\n",
    "    \"\"\"\n",
    "    phase_diff = flash_phase - neighbor_phases\n",
    "    res = neighbor_phases + amplitude*np.sin(2*np.pi*(phase_diff))\n",
    "    return np.mod(res, 1)  # np.clip(res, 0, 1) for a band-pass filter"
   ]
  },
  {
   "cell_type": "code",
   "execution_count": 8,
   "metadata": {},
   "outputs": [
    {
     "data": {
      "text/plain": [
       "Parameters(M=20, N=20, coupling_value=0.01, neighbor_distance=3, nb_periods=20, time_step_per_period=100)"
      ]
     },
     "execution_count": 8,
     "metadata": {},
     "output_type": "execute_result"
    }
   ],
   "source": [
    "# Let's initiate the (default) parameters for a simulation\n",
    "settings = Parameters(N=20, M=20, coupling_value=0.01)\n",
    "\n",
    "# and print it\n",
    "settings"
   ]
  },
  {
   "cell_type": "code",
   "execution_count": 9,
   "metadata": {},
   "outputs": [],
   "source": [
    "# And let's run the simulation\n",
    "heatmaps = fireflies_simulator(settings)"
   ]
  },
  {
   "cell_type": "code",
   "execution_count": 10,
   "metadata": {},
   "outputs": [
    {
     "data": {
      "application/vnd.jupyter.widget-view+json": {
       "model_id": "0ed1f5961aaf466caf5d3a0bf036cc5c",
       "version_major": 2,
       "version_minor": 0
      },
      "text/plain": [
       "VBox(children=(HBox(children=(Play(value=0, description='Press play', max=2000, step=10), IntSlider(value=0, m…"
      ]
     },
     "metadata": {},
     "output_type": "display_data"
    }
   ],
   "source": [
    "mymin, mymax, mystep = 0, heatmaps.shape[0]-1, 10\n",
    "\n",
    "play = widgets.Play(\n",
    "    value=0,\n",
    "    min=mymin,\n",
    "    max=mymax,\n",
    "    step=mystep,\n",
    "    interval=100,\n",
    "    description=\"Press play\",\n",
    ")\n",
    "\n",
    "# Set the figure\n",
    "fig5 = go.FigureWidget(\n",
    "    data=go.Heatmap(z=heatmaps[0], colorscale='Hot', reversescale=True),\n",
    "    layout=go.Layout(title=\"Fireflies Simulator\"))\n",
    "fig5.data[0].update(zmin=0, zmax=1)\n",
    "\n",
    "\n",
    "# Set the callback to update the graph \n",
    "def update5(change):\n",
    "    fig5.data[0].z = heatmaps[change['new']]\n",
    "\n",
    "\n",
    "# Link the slider and the callback\n",
    "slider = widgets.IntSlider(min=mymin, max=mymax, step=mystep)\n",
    "widgets.jslink((play, 'value'), (slider, 'value'))\n",
    "slider.observe(update5, names='value')\n",
    "\n",
    "\n",
    "# Display\n",
    "controllers = widgets.HBox([play, slider])\n",
    "display(widgets.VBox([controllers, fig5]))\n",
    "# controllers"
   ]
  },
  {
   "cell_type": "markdown",
   "metadata": {
    "tags": []
   },
   "source": [
    "## References\n",
    "\n",
    "Ermentrout, G. B., & Rinzel, J. O. H. N. (1984). Beyond a pacemaker's entrainment limit: phase walk-through. American Journal of Physiology-Regulatory, Integrative and Comparative Physiology, 246(1), R102-R106.\n",
    "\n",
    "Ermentrout, G. B., & Edelstein-Keshet, L. (1993). Cellular automata approaches to biological modeling. Journal of theoretical Biology, 160(1), 97-133.\n",
    "\n",
    "Strogatz, S. H. (2018). Nonlinear dynamics and chaos with student solutions manual: With applications to physics, biology, chemistry, and engineering. CRC press. pp 105-106\n",
    "\n",
    "Pikovsky, A., Kurths, J., Rosenblum, M., & Kurths, J. (2003). Synchronization: a universal concept in nonlinear sciences (No. 12). Cambridge university press. pp61-612"
   ]
  }
 ],
 "metadata": {
  "interpreter": {
   "hash": "d19446adba995f945831752fe33759098aa608065c618e88fb712f40a861ae94"
  },
  "kernelspec": {
   "display_name": "Python 3 (ipykernel)",
   "language": "python",
   "name": "python3"
  },
  "language_info": {
   "codemirror_mode": {
    "name": "ipython",
    "version": 3
   },
   "file_extension": ".py",
   "mimetype": "text/x-python",
   "name": "python",
   "nbconvert_exporter": "python",
   "pygments_lexer": "ipython3",
   "version": "3.9.6"
  },
  "toc": {
   "base_numbering": 1,
   "nav_menu": {},
   "number_sections": true,
   "sideBar": true,
   "skip_h1_title": true,
   "title_cell": "Table of Contents",
   "title_sidebar": "Contents",
   "toc_cell": true,
   "toc_position": {},
   "toc_section_display": true,
   "toc_window_display": false
  },
  "varInspector": {
   "cols": {
    "lenName": 16,
    "lenType": 16,
    "lenVar": 40
   },
   "kernels_config": {
    "python": {
     "delete_cmd_postfix": "",
     "delete_cmd_prefix": "del ",
     "library": "var_list.py",
     "varRefreshCmd": "print(var_dic_list())"
    },
    "r": {
     "delete_cmd_postfix": ") ",
     "delete_cmd_prefix": "rm(",
     "library": "var_list.r",
     "varRefreshCmd": "cat(var_dic_list()) "
    }
   },
   "types_to_exclude": [
    "module",
    "function",
    "builtin_function_or_method",
    "instance",
    "_Feature"
   ],
   "window_display": false
  },
  "widgets": {
   "application/vnd.jupyter.widget-state+json": {
    "state": {
     "0907b64a25a3414a9a048b8edde88be0": {
      "model_module": "jupyterlab-plotly",
      "model_module_version": "^5.1.0",
      "model_name": "FigureModel",
      "state": {
       "_config": {
        "plotlyServerURL": "https://plot.ly"
       },
       "_data": [
        {
         "reversescale": true,
         "type": "heatmap",
         "uid": "340d6042-fbeb-435a-80c0-d2570667b082",
         "z": [
          [
           0.17135475764236308,
           0.2976336352305534,
           0.7158022190650407,
           0.912483068663792,
           0.5661283547085746,
           0.7934765536339119,
           0.9748377828783996,
           0.7547443576986367,
           0.8915286791553255,
           0.11781492122540271,
           0.22933688873488445,
           0.7493821343558684,
           0.43049457123745727,
           0.21899945241190655,
           0.6889041028589563,
           0.24725619755557293,
           0.6896367000747848,
           0.13046149701273424,
           0.7086847522906702,
           0.522729679812516
          ],
          [
           0.7448126195801638,
           0.5522610381365143,
           0.20039957730646485,
           0.8683237983623957,
           0.841263061287659,
           0.9099987349677146,
           0.6766728465891915,
           0.4099536236725646,
           0.9282104619920469,
           0.24188457607274982,
           0.09033943768062547,
           0.5716762768094172,
           0.19316971963625862,
           0.5930732290721595,
           0.5491993339947774,
           0.9490272677711755,
           0.9740280255662895,
           0.6492506919679137,
           0.0346379105054635,
           0.9445127445818358
          ],
          [
           0.13193303489217556,
           0.7157588478143098,
           0.5256603332774074,
           0.12205442579484838,
           0.5904866029008735,
           0.8668014438957237,
           0.06203403645408201,
           0.08123609615406091,
           0.43844027274371866,
           0.3612798000224863,
           0.06693108635355849,
           0.18649793412565363,
           0.927450173918389,
           0.8418665797954857,
           0.120891820523776,
           0.3892575286802832,
           0.6779026252702702,
           0.9422697985166142,
           0.366158510549342,
           0.953231939699758
          ],
          [
           0.2570843861561358,
           0.2505893493658151,
           0.8309111989273514,
           0.4810533984056189,
           0.7598311003912797,
           0.6305317056857884,
           0.23436287125720245,
           0.8970768314016059,
           0.397133558618447,
           0.6054246555437625,
           0.23080638927743025,
           0.20578765945486432,
           0.911452933629813,
           0.3283588335183051,
           0.8232905824802952,
           0.14174438068829032,
           0.603775266377304,
           0.20046285729039037,
           0.326541794474176,
           0.6232457720993432
          ],
          [
           0.4514563702262604,
           0.8189240578863705,
           0.10356264663044956,
           0.951931101753274,
           0.7975136463768633,
           0.9158615409392563,
           0.11895519840688129,
           0.13439870228939532,
           0.41581839025702894,
           0.23414069067119492,
           0.08384523610825434,
           0.6013682259846673,
           0.7323149219063543,
           0.4000503001703227,
           0.23865190928736546,
           0.450481307593276,
           0.8564632248881106,
           0.4934992120065673,
           0.8449029621220469,
           0.09491554709196981
          ],
          [
           0.7143852980916849,
           0.4830040223207467,
           0.5767491773745533,
           0.8529273371128046,
           0.8119310598808772,
           0.9850144228033401,
           0.12516853396945327,
           0.32644771925001803,
           0.04233870279457852,
           0.42453930873040546,
           0.06223121878082116,
           0.8080254561707553,
           0.004636431595397061,
           0.01668671227056273,
           0.2721411618740994,
           0.8585763464525302,
           0.9397719830613845,
           0.12329767468500819,
           0.00926441764382313,
           0.39109830855033734
          ],
          [
           0.9891360440856634,
           0.7758138945194912,
           0.6375545656097321,
           0.3002261086187882,
           0.03953909910781361,
           0.0020971689160874663,
           0.4814143676445872,
           0.6714004335836299,
           0.04556107966466194,
           0.9059684245669525,
           0.6476054163283628,
           0.5738233731311639,
           0.9554003136435373,
           0.6014246137314574,
           0.5453598637190007,
           0.5277497673037461,
           0.2925235855017101,
           0.15977319948222135,
           0.18874391966764958,
           0.23104909372501126
          ],
          [
           0.2908614683738676,
           0.8188062052363514,
           0.11597225811235445,
           0.06408592942688884,
           0.25977954037561446,
           0.7507561940359126,
           0.4203355136197394,
           0.613031954028662,
           0.08230216187519224,
           0.5078166625849633,
           0.2254714520643396,
           0.799812359761331,
           0.07934637722274163,
           0.4999442213184452,
           0.3381471118852809,
           0.10464688270518752,
           0.9149987624021344,
           0.5168406252955764,
           0.4034703865491204,
           0.4215511368431675
          ],
          [
           0.6265103156711322,
           0.29172206507734433,
           0.9305502460068337,
           0.27165062948279783,
           0.055127294331015264,
           0.05362790083681401,
           0.8116915369041683,
           0.8177110581978871,
           0.783360124939569,
           0.5968735536828312,
           0.1612673579353513,
           0.38164047924941824,
           0.7636453660978454,
           0.2596717950742572,
           0.6744305783864821,
           0.07561351238213687,
           0.45010706597008354,
           0.16388673440964485,
           0.4910772647090099,
           0.7633601785757521
          ],
          [
           0.25927743110631896,
           0.45579492254150156,
           0.4068845882603701,
           0.6281333196922231,
           0.3035754974939673,
           0.14989376344047578,
           0.8993038998304684,
           0.23257768593197803,
           0.1906634440826579,
           0.09663997123986734,
           0.08579848551196989,
           0.9774557419063968,
           0.29890106877209155,
           0.4169625767536157,
           0.0696102011753823,
           0.10816780030609774,
           0.5223698817538673,
           0.6643147955991686,
           0.3149511939120254,
           0.6071589632250296
          ],
          [
           0.1709410438741077,
           0.43157468922202213,
           0.12838097557113415,
           0.6811959734664185,
           0.7296998726783099,
           0.4311244762986658,
           0.2233074728236203,
           0.32154275242575614,
           0.854471839300192,
           0.7884210440550238,
           0.3250433333526155,
           0.8868300848745004,
           0.33608339740749027,
           0.9995350791129388,
           0.8881860539283024,
           0.8020354160225527,
           0.6765553544199382,
           0.11316422844904106,
           0.47308771425522245,
           0.772903010305613
          ],
          [
           0.7443765859862014,
           0.4715350945133989,
           0.357101415929606,
           0.290724304478729,
           0.7684262519454143,
           0.944458954926419,
           0.9798646036312693,
           0.44053319725260465,
           0.17175295189393247,
           0.1252467428917392,
           0.8943687765957865,
           0.8297798794251644,
           0.42727212128670544,
           0.2255506298072142,
           0.8607360030803664,
           0.8065540984870468,
           0.09191500429803157,
           0.2781988526527429,
           0.42223451442380977,
           0.5605384383242392
          ],
          [
           0.6813347890204586,
           0.1383597562391662,
           0.5556601409688045,
           0.8832191916387708,
           0.3933521282803447,
           0.6066498071909069,
           0.2093426750595817,
           0.6129193447842862,
           0.9194206697442951,
           0.6001913775015327,
           0.8690245547202873,
           0.1575749298497633,
           0.19485031484590887,
           0.9100421554960016,
           0.03321944538231203,
           0.33446260773074143,
           0.9208150628821729,
           0.8863595825563807,
           0.2435432217727922,
           0.8929374590494095
          ],
          [
           0.0743765879062348,
           0.4092666834201625,
           0.3725305718293487,
           0.9506847165055656,
           0.7100194236483838,
           0.5162559458613466,
           0.2378105248231328,
           0.26991885998381293,
           0.07063871475262595,
           0.020567953575418962,
           0.29181455663324296,
           0.8337605186330577,
           0.03165233082927621,
           0.6189933284216433,
           0.49247263521926543,
           0.41100249999452276,
           0.28600230581015706,
           0.38748298791242586,
           0.993753082069557,
           0.991589214774192
          ],
          [
           0.37316441652197396,
           0.558865384390214,
           0.20209194656159346,
           0.15383500575572218,
           0.7098676464344744,
           0.205874743003303,
           0.7611440354728233,
           0.5946528615959166,
           0.6258491198257742,
           0.39876504342824814,
           0.025380203571426785,
           0.7210549626046446,
           0.8923653089358471,
           0.9404554415433407,
           0.3562320474227725,
           0.7506785799688058,
           0.5051797405188201,
           0.509738702941823,
           0.20872392826801056,
           0.20577346687040454
          ],
          [
           0.17750747131074218,
           0.30453298857636224,
           0.012497899479535945,
           0.339275398614753,
           0.8336515968200614,
           0.8706629383521804,
           0.433601271471314,
           0.3655143547252716,
           0.20283970025344422,
           0.36878575490160315,
           0.4575443632048054,
           0.37585260214779415,
           0.26895994390201183,
           0.8353203262916818,
           0.4537831044877044,
           0.13775330650800022,
           0.039081465246797786,
           0.9257368490792641,
           0.44559051429441676,
           0.09614854715471777
          ],
          [
           0.5538199161806608,
           0.4241990079321293,
           0.27613207184413135,
           0.31001611054376754,
           0.1362271174905204,
           0.25403124069434324,
           0.6954097939113761,
           0.37122243971221003,
           0.1371336564163792,
           0.12645930278943796,
           0.3141704441609161,
           0.20129759522044,
           0.41289953131431223,
           0.3055782423529071,
           0.2659750125194805,
           0.534339538338396,
           0.5469132364786767,
           0.06403881852326887,
           0.2460837527114197,
           0.7612988218323898
          ],
          [
           0.022743416080160728,
           0.8388834369398644,
           0.9451405271848548,
           0.3396514851168111,
           0.9413635825754487,
           0.3817347367539107,
           0.5278712587011852,
           0.08863647452778245,
           0.6274109607292115,
           0.2730713985322344,
           0.3831730604280301,
           0.3008764169127037,
           0.11748576455498605,
           0.7325053213816818,
           0.06645922999168852,
           0.3991239820614536,
           0.8862909072726306,
           0.7398961495392216,
           0.32432242454323423,
           0.19707397502156176
          ],
          [
           0.6311002581042972,
           0.5866681997462563,
           0.24329734877702558,
           0.21407184791772182,
           0.06268567875149256,
           0.5650174472280863,
           0.9633724508870675,
           0.9180658452009788,
           0.4271900479969447,
           0.9934253420727055,
           0.6954376459688653,
           0.3539362689604384,
           0.2581635840864125,
           0.07465061933934203,
           0.011169563842857944,
           0.3294474074206034,
           0.7632743949396147,
           0.5360820049238945,
           0.9870998598921638,
           0.7257690797944926
          ],
          [
           0.9207957089253018,
           0.5357166302422354,
           0.9544526859149182,
           0.6252653402585752,
           0.6671826900892494,
           0.9870656735943742,
           0.6564834590131261,
           0.2733025984767793,
           0.6727289022065097,
           0.392067963549681,
           0.7015848161221355,
           0.016938680388710492,
           0.15374661289124847,
           0.40834109582792255,
           0.6270486414193406,
           0.5788788330734292,
           0.4492481936213666,
           0.36988473007895883,
           0.8795703948010442,
           0.29820440403718285
          ]
         ],
         "zmax": 1,
         "zmin": 0
        }
       ],
       "_js2py_restyle": {},
       "_js2py_update": {},
       "_last_layout_edit_id": 178,
       "_last_trace_edit_id": 177,
       "_layout": {
        "autosize": true,
        "template": {
         "data": {
          "bar": [
           {
            "error_x": {
             "color": "#2a3f5f"
            },
            "error_y": {
             "color": "#2a3f5f"
            },
            "marker": {
             "line": {
              "color": "#E5ECF6",
              "width": 0.5
             },
             "pattern": {
              "fillmode": "overlay",
              "size": 10,
              "solidity": 0.2
             }
            },
            "type": "bar"
           }
          ],
          "barpolar": [
           {
            "marker": {
             "line": {
              "color": "#E5ECF6",
              "width": 0.5
             },
             "pattern": {
              "fillmode": "overlay",
              "size": 10,
              "solidity": 0.2
             }
            },
            "type": "barpolar"
           }
          ],
          "carpet": [
           {
            "aaxis": {
             "endlinecolor": "#2a3f5f",
             "gridcolor": "white",
             "linecolor": "white",
             "minorgridcolor": "white",
             "startlinecolor": "#2a3f5f"
            },
            "baxis": {
             "endlinecolor": "#2a3f5f",
             "gridcolor": "white",
             "linecolor": "white",
             "minorgridcolor": "white",
             "startlinecolor": "#2a3f5f"
            },
            "type": "carpet"
           }
          ],
          "choropleth": [
           {
            "colorbar": {
             "outlinewidth": 0,
             "ticks": ""
            },
            "type": "choropleth"
           }
          ],
          "contour": [
           {
            "colorbar": {
             "outlinewidth": 0,
             "ticks": ""
            },
            "colorscale": [
             [
              0,
              "#0d0887"
             ],
             [
              0.1111111111111111,
              "#46039f"
             ],
             [
              0.2222222222222222,
              "#7201a8"
             ],
             [
              0.3333333333333333,
              "#9c179e"
             ],
             [
              0.4444444444444444,
              "#bd3786"
             ],
             [
              0.5555555555555556,
              "#d8576b"
             ],
             [
              0.6666666666666666,
              "#ed7953"
             ],
             [
              0.7777777777777778,
              "#fb9f3a"
             ],
             [
              0.8888888888888888,
              "#fdca26"
             ],
             [
              1,
              "#f0f921"
             ]
            ],
            "type": "contour"
           }
          ],
          "contourcarpet": [
           {
            "colorbar": {
             "outlinewidth": 0,
             "ticks": ""
            },
            "type": "contourcarpet"
           }
          ],
          "heatmap": [
           {
            "colorbar": {
             "outlinewidth": 0,
             "ticks": ""
            },
            "colorscale": [
             [
              0,
              "#0d0887"
             ],
             [
              0.1111111111111111,
              "#46039f"
             ],
             [
              0.2222222222222222,
              "#7201a8"
             ],
             [
              0.3333333333333333,
              "#9c179e"
             ],
             [
              0.4444444444444444,
              "#bd3786"
             ],
             [
              0.5555555555555556,
              "#d8576b"
             ],
             [
              0.6666666666666666,
              "#ed7953"
             ],
             [
              0.7777777777777778,
              "#fb9f3a"
             ],
             [
              0.8888888888888888,
              "#fdca26"
             ],
             [
              1,
              "#f0f921"
             ]
            ],
            "type": "heatmap"
           }
          ],
          "heatmapgl": [
           {
            "colorbar": {
             "outlinewidth": 0,
             "ticks": ""
            },
            "colorscale": [
             [
              0,
              "#0d0887"
             ],
             [
              0.1111111111111111,
              "#46039f"
             ],
             [
              0.2222222222222222,
              "#7201a8"
             ],
             [
              0.3333333333333333,
              "#9c179e"
             ],
             [
              0.4444444444444444,
              "#bd3786"
             ],
             [
              0.5555555555555556,
              "#d8576b"
             ],
             [
              0.6666666666666666,
              "#ed7953"
             ],
             [
              0.7777777777777778,
              "#fb9f3a"
             ],
             [
              0.8888888888888888,
              "#fdca26"
             ],
             [
              1,
              "#f0f921"
             ]
            ],
            "type": "heatmapgl"
           }
          ],
          "histogram": [
           {
            "marker": {
             "pattern": {
              "fillmode": "overlay",
              "size": 10,
              "solidity": 0.2
             }
            },
            "type": "histogram"
           }
          ],
          "histogram2d": [
           {
            "colorbar": {
             "outlinewidth": 0,
             "ticks": ""
            },
            "colorscale": [
             [
              0,
              "#0d0887"
             ],
             [
              0.1111111111111111,
              "#46039f"
             ],
             [
              0.2222222222222222,
              "#7201a8"
             ],
             [
              0.3333333333333333,
              "#9c179e"
             ],
             [
              0.4444444444444444,
              "#bd3786"
             ],
             [
              0.5555555555555556,
              "#d8576b"
             ],
             [
              0.6666666666666666,
              "#ed7953"
             ],
             [
              0.7777777777777778,
              "#fb9f3a"
             ],
             [
              0.8888888888888888,
              "#fdca26"
             ],
             [
              1,
              "#f0f921"
             ]
            ],
            "type": "histogram2d"
           }
          ],
          "histogram2dcontour": [
           {
            "colorbar": {
             "outlinewidth": 0,
             "ticks": ""
            },
            "colorscale": [
             [
              0,
              "#0d0887"
             ],
             [
              0.1111111111111111,
              "#46039f"
             ],
             [
              0.2222222222222222,
              "#7201a8"
             ],
             [
              0.3333333333333333,
              "#9c179e"
             ],
             [
              0.4444444444444444,
              "#bd3786"
             ],
             [
              0.5555555555555556,
              "#d8576b"
             ],
             [
              0.6666666666666666,
              "#ed7953"
             ],
             [
              0.7777777777777778,
              "#fb9f3a"
             ],
             [
              0.8888888888888888,
              "#fdca26"
             ],
             [
              1,
              "#f0f921"
             ]
            ],
            "type": "histogram2dcontour"
           }
          ],
          "mesh3d": [
           {
            "colorbar": {
             "outlinewidth": 0,
             "ticks": ""
            },
            "type": "mesh3d"
           }
          ],
          "parcoords": [
           {
            "line": {
             "colorbar": {
              "outlinewidth": 0,
              "ticks": ""
             }
            },
            "type": "parcoords"
           }
          ],
          "pie": [
           {
            "automargin": true,
            "type": "pie"
           }
          ],
          "scatter": [
           {
            "marker": {
             "colorbar": {
              "outlinewidth": 0,
              "ticks": ""
             }
            },
            "type": "scatter"
           }
          ],
          "scatter3d": [
           {
            "line": {
             "colorbar": {
              "outlinewidth": 0,
              "ticks": ""
             }
            },
            "marker": {
             "colorbar": {
              "outlinewidth": 0,
              "ticks": ""
             }
            },
            "type": "scatter3d"
           }
          ],
          "scattercarpet": [
           {
            "marker": {
             "colorbar": {
              "outlinewidth": 0,
              "ticks": ""
             }
            },
            "type": "scattercarpet"
           }
          ],
          "scattergeo": [
           {
            "marker": {
             "colorbar": {
              "outlinewidth": 0,
              "ticks": ""
             }
            },
            "type": "scattergeo"
           }
          ],
          "scattergl": [
           {
            "marker": {
             "colorbar": {
              "outlinewidth": 0,
              "ticks": ""
             }
            },
            "type": "scattergl"
           }
          ],
          "scattermapbox": [
           {
            "marker": {
             "colorbar": {
              "outlinewidth": 0,
              "ticks": ""
             }
            },
            "type": "scattermapbox"
           }
          ],
          "scatterpolar": [
           {
            "marker": {
             "colorbar": {
              "outlinewidth": 0,
              "ticks": ""
             }
            },
            "type": "scatterpolar"
           }
          ],
          "scatterpolargl": [
           {
            "marker": {
             "colorbar": {
              "outlinewidth": 0,
              "ticks": ""
             }
            },
            "type": "scatterpolargl"
           }
          ],
          "scatterternary": [
           {
            "marker": {
             "colorbar": {
              "outlinewidth": 0,
              "ticks": ""
             }
            },
            "type": "scatterternary"
           }
          ],
          "surface": [
           {
            "colorbar": {
             "outlinewidth": 0,
             "ticks": ""
            },
            "colorscale": [
             [
              0,
              "#0d0887"
             ],
             [
              0.1111111111111111,
              "#46039f"
             ],
             [
              0.2222222222222222,
              "#7201a8"
             ],
             [
              0.3333333333333333,
              "#9c179e"
             ],
             [
              0.4444444444444444,
              "#bd3786"
             ],
             [
              0.5555555555555556,
              "#d8576b"
             ],
             [
              0.6666666666666666,
              "#ed7953"
             ],
             [
              0.7777777777777778,
              "#fb9f3a"
             ],
             [
              0.8888888888888888,
              "#fdca26"
             ],
             [
              1,
              "#f0f921"
             ]
            ],
            "type": "surface"
           }
          ],
          "table": [
           {
            "cells": {
             "fill": {
              "color": "#EBF0F8"
             },
             "line": {
              "color": "white"
             }
            },
            "header": {
             "fill": {
              "color": "#C8D4E3"
             },
             "line": {
              "color": "white"
             }
            },
            "type": "table"
           }
          ]
         },
         "layout": {
          "annotationdefaults": {
           "arrowcolor": "#2a3f5f",
           "arrowhead": 0,
           "arrowwidth": 1
          },
          "autotypenumbers": "strict",
          "coloraxis": {
           "colorbar": {
            "outlinewidth": 0,
            "ticks": ""
           }
          },
          "colorscale": {
           "diverging": [
            [
             0,
             "#8e0152"
            ],
            [
             0.1,
             "#c51b7d"
            ],
            [
             0.2,
             "#de77ae"
            ],
            [
             0.3,
             "#f1b6da"
            ],
            [
             0.4,
             "#fde0ef"
            ],
            [
             0.5,
             "#f7f7f7"
            ],
            [
             0.6,
             "#e6f5d0"
            ],
            [
             0.7,
             "#b8e186"
            ],
            [
             0.8,
             "#7fbc41"
            ],
            [
             0.9,
             "#4d9221"
            ],
            [
             1,
             "#276419"
            ]
           ],
           "sequential": [
            [
             0,
             "#0d0887"
            ],
            [
             0.1111111111111111,
             "#46039f"
            ],
            [
             0.2222222222222222,
             "#7201a8"
            ],
            [
             0.3333333333333333,
             "#9c179e"
            ],
            [
             0.4444444444444444,
             "#bd3786"
            ],
            [
             0.5555555555555556,
             "#d8576b"
            ],
            [
             0.6666666666666666,
             "#ed7953"
            ],
            [
             0.7777777777777778,
             "#fb9f3a"
            ],
            [
             0.8888888888888888,
             "#fdca26"
            ],
            [
             1,
             "#f0f921"
            ]
           ],
           "sequentialminus": [
            [
             0,
             "#0d0887"
            ],
            [
             0.1111111111111111,
             "#46039f"
            ],
            [
             0.2222222222222222,
             "#7201a8"
            ],
            [
             0.3333333333333333,
             "#9c179e"
            ],
            [
             0.4444444444444444,
             "#bd3786"
            ],
            [
             0.5555555555555556,
             "#d8576b"
            ],
            [
             0.6666666666666666,
             "#ed7953"
            ],
            [
             0.7777777777777778,
             "#fb9f3a"
            ],
            [
             0.8888888888888888,
             "#fdca26"
            ],
            [
             1,
             "#f0f921"
            ]
           ]
          },
          "colorway": [
           "#636efa",
           "#EF553B",
           "#00cc96",
           "#ab63fa",
           "#FFA15A",
           "#19d3f3",
           "#FF6692",
           "#B6E880",
           "#FF97FF",
           "#FECB52"
          ],
          "font": {
           "color": "#2a3f5f"
          },
          "geo": {
           "bgcolor": "white",
           "lakecolor": "white",
           "landcolor": "#E5ECF6",
           "showlakes": true,
           "showland": true,
           "subunitcolor": "white"
          },
          "hoverlabel": {
           "align": "left"
          },
          "hovermode": "closest",
          "mapbox": {
           "style": "light"
          },
          "paper_bgcolor": "white",
          "plot_bgcolor": "#E5ECF6",
          "polar": {
           "angularaxis": {
            "gridcolor": "white",
            "linecolor": "white",
            "ticks": ""
           },
           "bgcolor": "#E5ECF6",
           "radialaxis": {
            "gridcolor": "white",
            "linecolor": "white",
            "ticks": ""
           }
          },
          "scene": {
           "xaxis": {
            "backgroundcolor": "#E5ECF6",
            "gridcolor": "white",
            "gridwidth": 2,
            "linecolor": "white",
            "showbackground": true,
            "ticks": "",
            "zerolinecolor": "white"
           },
           "yaxis": {
            "backgroundcolor": "#E5ECF6",
            "gridcolor": "white",
            "gridwidth": 2,
            "linecolor": "white",
            "showbackground": true,
            "ticks": "",
            "zerolinecolor": "white"
           },
           "zaxis": {
            "backgroundcolor": "#E5ECF6",
            "gridcolor": "white",
            "gridwidth": 2,
            "linecolor": "white",
            "showbackground": true,
            "ticks": "",
            "zerolinecolor": "white"
           }
          },
          "shapedefaults": {
           "line": {
            "color": "#2a3f5f"
           }
          },
          "ternary": {
           "aaxis": {
            "gridcolor": "white",
            "linecolor": "white",
            "ticks": ""
           },
           "baxis": {
            "gridcolor": "white",
            "linecolor": "white",
            "ticks": ""
           },
           "bgcolor": "#E5ECF6",
           "caxis": {
            "gridcolor": "white",
            "linecolor": "white",
            "ticks": ""
           }
          },
          "title": {
           "x": 0.05
          },
          "xaxis": {
           "automargin": true,
           "gridcolor": "white",
           "linecolor": "white",
           "ticks": "",
           "title": {
            "standoff": 15
           },
           "zerolinecolor": "white",
           "zerolinewidth": 2
          },
          "yaxis": {
           "automargin": true,
           "gridcolor": "white",
           "linecolor": "white",
           "ticks": "",
           "title": {
            "standoff": 15
           },
           "zerolinecolor": "white",
           "zerolinewidth": 2
          }
         }
        },
        "title": {
         "text": "Fireflies Simulator"
        }
       },
       "_py2js_addTraces": {},
       "_py2js_animate": {},
       "_py2js_deleteTraces": {},
       "_py2js_moveTraces": {},
       "_py2js_removeLayoutProps": {},
       "_view_count": 1
      }
     },
     "0df47612b9764ff3827c83771586b702": {
      "buffers": [
       {
        "data": "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",
        "encoding": "base64",
        "path": [
         "_data",
         0,
         "x",
         "value"
        ]
       },
       {
        "data": "AAAAAAAAAAAeBzq2ADlSPx4HOrYAOWI/rQpXEYFVaz8eBzq2ADlyP+WIyONAx3Y/rQpXEYFVez91jOU+weN/Px4HOrYAOYI/AkgBzSCAhD/liMjjQMeGP8rJj/pgDok/rQpXEYFViz+SSx4ooZyNP3WM5T7B448/rGbWqnAVkT8eBzq2ADmSP5CnncGQXJM/AkgBzSCAlD906GTYsKOVP+WIyONAx5Y/WCks79Dqlz/KyY/6YA6ZPzxq8wXxMZo/rQpXEYFVmz8gq7ocEXmcP5JLHiihnJ0/BOyBMzHAnj91jOU+weOfP3SWJKWog6A/rGbWqnAVoT/lNoiwOKehPx4HOrYAOaI/V9fru8jKoj+Qp53BkFyjP8l3T8dY7qM/AkgBzSCApD87GLPS6BGlP3ToZNiwo6U/rLgW3ng1pj/liMjjQMemPx9ZeukIWac/WCks79Dqpz+R+d30mHyoP8rJj/pgDqk/A5pBACmgqT88avMF8TGqP3Q6pQu5w6o/rQpXEYFVqz/m2ggXSeerPyCruhwReaw/WXtsItkKrT+SSx4ooZytP8sb0C1pLq4/BOyBMzHArj88vDM5+VGvP3WM5T7B468/V65LosQ6sD90liSlqIOwP5B+/aeMzLA/rGbWqnAVsT/JTq+tVF6xP+U2iLA4p7E/Ah9hsxzwsT8eBzq2ADmyPzvvErnkgbI/V9fru8jKsj90v8S+rBOzP5CnncGQXLM/rI92xHSlsz/Jd0/HWO6zP+VfKMo8N7Q/AkgBzSCAtD8eMNrPBMm0PzsYs9LoEbU/VwCM1cxatT906GTYsKO1P5DQPduU7LU/rLgW3ng1tj/JoO/gXH62P+WIyONAx7Y/A3Gh5iQQtz8fWXrpCFm3PzxBU+zsobc/WCks79Dqtz90EQXytDO4P5H53fSYfLg/reG293zFuD/KyY/6YA65P+axaP1EV7k/A5pBACmguT8fghoDDem5Pzxq8wXxMbo/WFLMCNV6uj90OqULucO6P5Eifg6dDLs/rQpXEYFVuz/K8i8UZZ67P+baCBdJ57s/A8PhGS0wvD8gq7ocEXm8PzyTkx/1wbw/WXtsItkKvT91Y0UlvVO9P5JLHiihnL0/rjP3KoXlvT/LG9AtaS6+P+cDqTBNd74/BOyBMzHAvj8g1Fo2FQm/Pzy8Mzn5Ub8/WaQMPN2avz91jOU+weO/P0k636BSFsA/V65LosQ6wD9lIrijNl/AP3SWJKWog8A/ggqRphqowD+Qfv2njMzAP57yaan+8MA/rGbWqnAVwT+72kKs4jnBP8lOr61UXsE/18Ibr8aCwT/lNoiwOKfBP/Sq9LGqy8E/Ah9hsxzwwT8Qk820jhTCPx4HOrYAOcI/LHumt3Jdwj877xK55IHCP0ljf7pWpsI/V9fru8jKwj9lS1i9Ou/CP3S/xL6sE8M/gjMxwB44wz+Qp53BkFzDP54bCsMCgcM/rI92xHSlwz+7A+PF5snDP8l3T8dY7sM/1+u7yMoSxD/lXyjKPDfEP/TTlMuuW8Q/AkgBzSCAxD8QvG3OkqTEPx4w2s8EycQ/LKRG0XbtxD87GLPS6BHFP0mMH9RaNsU/VwCM1cxaxT9ldPjWPn/FP3ToZNiwo8U/glzR2SLIxT+Q0D3blOzFP55EqtwGEcY/rLgW3ng1xj+7LIPf6lnGP8mg7+BcfsY/1xRc4s6ixj/liMjjQMfGP/T8NOWy68Y/A3Gh5iQQxz8R5Q3oljTHPx9ZeukIWcc/Lc3m6np9xz88QVPs7KHHP0q1v+1exsc/WCks79Dqxz9mnZjwQg/IP3QRBfK0M8g/g4Vx8yZYyD+R+d30mHzIP59tSvYKocg/reG293zFyD+8VSP57unIP8rJj/pgDsk/2D38+9IyyT/msWj9RFfJP/Ql1f62e8k/A5pBACmgyT8RDq4Bm8TJPx+CGgMN6ck/LfaGBH8Nyj88avMF8THKP0reXwdjVso/WFLMCNV6yj9mxjgKR5/KP3Q6pQu5w8o/g64RDSvoyj+RIn4OnQzLP5+W6g8PMcs/rQpXEYFVyz+8fsMS83nLP8ryLxRlnss/2GacFdfCyz/m2ggXSefLP/ROdRi7C8w/A8PhGS0wzD8RN04bn1TMPyCruhwRecw/Lh8nHoOdzD88k5Mf9cHMP0sHACFn5sw/WXtsItkKzT9n79gjSy/NP3VjRSW9U80/hNexJi94zT+SSx4ooZzNP6C/iikTwc0/rjP3KoXlzT+8p2Ms9wnOP8sb0C1pLs4/2Y88L9tSzj/nA6kwTXfOP/V3FTK/m84/BOyBMzHAzj8SYO40o+TOPyDUWjYVCc8/LkjHN4ctzz88vDM5+VHPP0swoDprds8/WaQMPN2azz9nGHk9T7/PP3WM5T7B488/QgApoBkE0D9JOt+gUhbQP1B0laGLKNA/V65LosQ60D9e6AGj/UzQP2UiuKM2X9A/bFxupG9x0D90liSlqIPQP3vQ2qXhldA/ggqRphqo0D+JREenU7rQP5B+/aeMzNA/l7izqMXe0D+e8mmp/vDQP6UsIKo3A9E/rGbWqnAV0T+0oIyrqSfRP7vaQqziOdE/whT5rBtM0T/JTq+tVF7RP9CIZa6NcNE/18Ibr8aC0T/e/NGv/5TRP+U2iLA4p9E/7HA+sXG50T/0qvSxqsvRP/vkqrLj3dE/Ah9hsxzw0T8JWRe0VQLSPxCTzbSOFNI/F82Dtccm0j8eBzq2ADnSPyVB8LY5S9I/LHumt3Jd0j80tVy4q2/SPzvvErnkgdI/QinJuR2U0j9JY3+6VqbSP1CdNbuPuNI/V9fru8jK0j9eEaK8Ad3SP2VLWL0679I/bIUOvnMB0z90v8S+rBPTP3v5er/lJdM/gjMxwB440z+JbefAV0rTP5CnncGQXNM/l+FTwslu0z+eGwrDAoHTP6VVwMM7k9M/rI92xHSl0z+0ySzFrbfTP7sD48XmydM/wj2Zxh/c0z/Jd0/HWO7TP9CxBciRANQ/1+u7yMoS1D/eJXLJAyXUP+VfKMo8N9Q/7JneynVJ1D/005TLrlvUP/sNS8znbdQ/AkgBzSCA1D8JgrfNWZLUPxC8bc6SpNQ/F/Yjz8u21D8eMNrPBMnUPyVqkNA929Q/LKRG0Xbt1D803vzRr//UPzsYs9LoEdU/QlJp0yEk1T9JjB/UWjbVP1DG1dSTSNU/VwCM1cxa1T9eOkLWBW3VP2V0+NY+f9U/bK6u13eR1T906GTYsKPVP3siG9nptdU/glzR2SLI1T+JlofaW9rVP5DQPduU7NU/lwr0283+1T+eRKrcBhHWP6V+YN0/I9Y/rLgW3ng11j+08szesUfWP7ssg9/qWdY/wmY54CNs1j/JoO/gXH7WP9DapeGVkNY/1xRc4s6i1j/eThLjB7XWP+WIyONAx9Y/7cJ+5HnZ1j/0/DTlsuvWP/w26+Xr/dY/A3Gh5iQQ1z8Kq1fnXSLXPxHlDeiWNNc/GB/E6M9G1z8fWXrpCFnXPyaTMOpBa9c/Lc3m6np91z80B53rs4/XPzxBU+zsodc/Q3sJ7SW01z9Ktb/tXsbXP1Hvde6X2Nc/WCks79Dq1z9fY+LvCf3XP2admPBCD9g/bddO8Xsh2D90EQXytDPYP3xLu/LtRdg/g4Vx8yZY2D+Kvyf0X2rYP5H53fSYfNg/mDOU9dGO2D+fbUr2CqHYP6anAPdDs9g/reG293zF2D+0G234tdfYP7xVI/nu6dg/w4/Z+Sf82D/KyY/6YA7ZP9EDRvuZINk/2D38+9Iy2T/fd7L8C0XZP+axaP1EV9k/7ese/n1p2T/0JdX+tnvZP/xfi//vjdk/A5pBACmg2T8K1PcAYrLZPxEOrgGbxNk/GEhkAtTW2T8fghoDDenZPya80ANG+9k/LfaGBH8N2j80MD0FuB/aPzxq8wXxMdo/Q6SpBipE2j9K3l8HY1baP1EYFgicaNo/WFLMCNV62j9fjIIJDo3aP2bGOApHn9o/bQDvCoCx2j90OqULucPaP3x0Wwzy1do/g64RDSvo2j+K6McNZPraP5Eifg6dDNs/mFw0D9Ye2z+fluoPDzHbP6bQoBBIQ9s/rQpXEYFV2z+0RA0SumfbP7x+wxLzeds/w7h5EyyM2z/K8i8UZZ7bP9Es5hSesNs/2GacFdfC2z/foFIWENXbP+baCBdJ59s/7RS/F4L52z/0TnUYuwvcP/yIKxn0Hdw/A8PhGS0w3D8K/ZcaZkLcPxE3ThufVNw/GHEEHNhm3D8gq7ocEXncPyflcB1Ki9w/Lh8nHoOd3D81Wd0evK/cPzyTkx/1wdw/RM1JIC7U3D9LBwAhZ+bcP1JBtiGg+Nw/WXtsItkK3T9gtSIjEh3dP2fv2CNLL90/bimPJIRB3T91Y0UlvVPdP3yd+yX2Zd0/hNexJi943T+LEWgnaIrdP5JLHiihnN0/mYXUKNqu3T+gv4opE8HdP6f5QCpM090/rjP3KoXl3T+1ba0rvvfdP7ynYyz3Cd4/xOEZLTAc3j/LG9AtaS7eP9JVhi6iQN4/2Y88L9tS3j/gyfIvFGXeP+cDqTBNd94/7j1fMYaJ3j/1dxUyv5veP/yxyzL4rd4/BOyBMzHA3j8LJjg0atLePxJg7jSj5N4/GZqkNdz23j8g1Fo2FQnfPycOETdOG98/LkjHN4ct3z81gn04wD/fPzy8Mzn5Ud8/RPbpOTJk3z9LMKA6a3bfP1JqVjukiN8/WaQMPN2a3z9g3sI8Fq3fP2cYeT1Pv98/blIvPojR3z91jOU+wePfP3zGmz/69d8/QgApoBkE4D9FHYQgNg3gP0k636BSFuA/TFc6IW8f4D9QdJWhiyjgP1SR8CGoMeA/V65LosQ64D9by6Yi4UPgP17oAaP9TOA/YgVdIxpW4D9lIrijNl/gP2k/EyRTaOA/bFxupG9x4D9weckkjHrgP3SWJKWog+A/d7N/JcWM4D970Nql4ZXgP37tNSb+nuA/ggqRphqo4D+FJ+wmN7HgP4lER6dTuuA/jGGiJ3DD4D+Qfv2njMzgP5SbWCip1eA/l7izqMXe4D+b1Q4p4ufgP57yaan+8OA/og/FKRv64D+lLCCqNwPhP6lJeypUDOE/rGbWqnAV4T+wgzErjR7hP7SgjKupJ+E/t73nK8Yw4T+72kKs4jnhP773nSz/QuE/whT5rBtM4T/FMVQtOFXhP8lOr61UXuE/zGsKLnFn4T/QiGWujXDhP9SlwC6qeeE/18Ibr8aC4T/b33Yv44vhP9780a//lOE/4hktMBye4T/lNoiwOKfhP+lT4zBVsOE/7HA+sXG54T/wjZkxjsLhP/Sq9LGqy+E/98dPMsfU4T/75Kqy493hP/4BBjMA5+E/Ah9hsxzw4T8FPLwzOfnhPwlZF7RVAuI/DHZyNHIL4j8Qk820jhTiPxSwKDWrHeI/F82Dtccm4j8b6t415C/iPx4HOrYAOeI/IiSVNh1C4j8lQfC2OUviPyleSzdWVOI/LHumt3Jd4j8wmAE4j2biPzS1XLirb+I/N9K3OMh44j877xK55IHiPz4MbjkBi+I/QinJuR2U4j9FRiQ6Op3iP0ljf7pWpuI/TIDaOnOv4j9QnTW7j7jiP1S6kDusweI/V9fru8jK4j9b9EY85dPiP14RorwB3eI/Yi79PB7m4j9lS1i9Ou/iP2losz1X+OI/bIUOvnMB4z9womk+kArjP3S/xL6sE+M/d9wfP8kc4z97+Xq/5SXjP34W1j8CL+M/gjMxwB444z+FUIxAO0HjP4lt58BXSuM/jIpCQXRT4z+Qp53BkFzjP5TE+EGtZeM/l+FTwslu4z+b/q5C5nfjP54bCsMCgeM/ojhlQx+K4z+lVcDDO5PjP6lyG0RYnOM/rI92xHSl4z+wrNFEka7jP7TJLMWtt+M/t+aHRcrA4z+7A+PF5snjP74gPkYD0+M/wj2Zxh/c4z/FWvRGPOXjP8l3T8dY7uM/zJSqR3X34z/QsQXIkQDkP9TOYEiuCeQ/1+u7yMoS5D/bCBdJ5xvkP94lcskDJeQ/4kLNSSAu5D/lXyjKPDfkP+l8g0pZQOQ/7JneynVJ5D/wtjlLklLkP/TTlMuuW+Q/9/DvS8tk5D/7DUvM523kP/4qpkwEd+Q/AkgBzSCA5D8FZVxNPYnkPwmCt81ZkuQ/DJ8STnab5D8QvG3OkqTkPxTZyE6vreQ/F/Yjz8u25D8bE39P6L/kPx4w2s8EyeQ/Ik01UCHS5D8lapDQPdvkPymH61Ba5OQ/LKRG0Xbt5D8wwaFRk/bkPzTe/NGv/+Q/N/tXUswI5T87GLPS6BHlPz41DlMFG+U/QlJp0yEk5T9Fb8RTPi3lP0mMH9RaNuU/TKl6VHc/5T9QxtXUk0jlP1TjMFWwUeU/VwCM1cxa5T9bHedV6WPlP146QtYFbeU/YledViJ25T9ldPjWPn/lP2mRU1dbiOU/bK6u13eR5T9wywlYlJrlP3ToZNiwo+U/dwXAWM2s5T97IhvZ6bXlP34/dlkGv+U/glzR2SLI5T+FeSxaP9HlP4mWh9pb2uU/jLPiWnjj5T+Q0D3blOzlP5TtmFux9eU/lwr0283+5T+bJ09c6gfmP55EqtwGEeY/omEFXSMa5j+lfmDdPyPmP6mbu11cLOY/rLgW3ng15j+w1XFelT7mP7TyzN6xR+Y/tw8oX85Q5j+7LIPf6lnmP75J3l8HY+Y/wmY54CNs5j/Fg5RgQHXmP8mg7+BcfuY/zL1KYXmH5j/Q2qXhlZDmP9T3AGKymeY/1xRc4s6i5j/bMbdi66vmP95OEuMHteY/4mttYyS+5j/liMjjQMfmP+qlI2Rd0OY/7cJ+5HnZ5j/x39lkluLmP/T8NOWy6+Y/+BmQZc/05j/8Nuvl6/3mP/9TRmYIB+c/A3Gh5iQQ5z8GjvxmQRnnPwqrV+ddIuc/DciyZ3or5z8R5Q3oljTnPxQCaWizPec/GB/E6M9G5z8cPB9p7E/nPx9ZeukIWec/I3bVaSVi5z8mkzDqQWvnPyqwi2pedOc/Lc3m6np95z8x6kFrl4bnPzQHneuzj+c/OCT4a9CY5z88QVPs7KHnPz9ermwJq+c/Q3sJ7SW05z9GmGRtQr3nP0q1v+1exuc/TdIabnvP5z9R73Xul9jnP1QM0W604ec/WCks79Dq5z9cRodv7fPnP19j4u8J/ec/Y4A9cCYG6D9mnZjwQg/oP2q683BfGOg/bddO8Xsh6D9x9KlxmCroP3QRBfK0M+g/eC5gctE86D98S7vy7UXoP39oFnMKT+g/g4Vx8yZY6D+GosxzQ2HoP4q/J/Rfaug/jdyCdHxz6D+R+d30mHzoP5QWOXW1heg/mDOU9dGO6D+cUO917pfoP59tSvYKoeg/o4qldieq6D+mpwD3Q7PoP6rEW3dgvOg/reG293zF6D+x/hF4mc7oP7Qbbfi11+g/uDjIeNLg6D+8VSP57unoP79yfnkL8+g/w4/Z+Sf86D/GrDR6RAXpP8rJj/pgDuk/zebqen0X6T/RA0b7mSDpP9QgoXu2Kek/2D38+9Iy6T/cWld87zvpP993svwLRek/45QNfShO6T/msWj9RFfpP+rOw31hYOk/7ese/n1p6T/xCHp+mnLpP/Ql1f62e+k/+EIwf9OE6T/8X4v/743pP/985n8Ml+k/A5pBACmg6T8Gt5yARanpPwrU9wBisuk/DfFSgX676T8RDq4Bm8TpPxQrCYK3zek/GEhkAtTW6T8cZb+C8N/pPx+CGgMN6ek/I591gyny6T8mvNADRvvpPyrZK4RiBOo/LfaGBH8N6j8xE+KEmxbqPzQwPQW4H+o/OE2YhdQo6j88avMF8THqPz+HToYNO+o/Q6SpBipE6j9GwQSHRk3qP0reXwdjVuo/Tfu6h39f6j9RGBYInGjqP1Q1cYi4ceo/WFLMCNV66j9cbyeJ8YPqP1+MggkOjeo/Y6ndiSqW6j9mxjgKR5/qP2rjk4pjqOo/bQDvCoCx6j9xHUqLnLrqP3Q6pQu5w+o/eFcAjNXM6j98dFsM8tXqP3+RtowO3+o/g64RDSvo6j+Gy2yNR/HqP4roxw1k+uo/jQUjjoAD6z+RIn4OnQzrP5Q/2Y65Fes/mFw0D9Ye6z+ceY+P8ifrP5+W6g8PMes/o7NFkCs66z+m0KAQSEPrP6rt+5BkTOs/rQpXEYFV6z+xJ7KRnV7rP7REDRK6Z+s/uGFoktZw6z+8fsMS83nrP7+bHpMPg+s/w7h5EyyM6z/G1dSTSJXrP8ryLxRlnus/zQ+LlIGn6z/RLOYUnrDrP9RJQZW6ues/2GacFdfC6z/cg/eV88vrP9+gUhYQ1es/472tlize6z/m2ggXSefrP+r3Y5dl8Os/7RS/F4L56z/xMRqYngLsP/ROdRi7C+w/+GvQmNcU7D/8iCsZ9B3sP/+lhpkQJ+w/A8PhGS0w7D8G4DyaSTnsPwr9lxpmQuw/DRrzmoJL7D8RN04bn1TsPxRUqZu7Xew/GHEEHNhm7D8cjl+c9G/sPyCruhwReew/JMgVnS2C7D8n5XAdSovsPysCzJ1mlOw/Lh8nHoOd7D8yPIKen6bsPzVZ3R68r+w/OXY4n9i47D88k5Mf9cHsP0Cw7p8Ry+w/RM1JIC7U7D9H6qSgSt3sP0sHACFn5uw/TiRboYPv7D9SQbYhoPjsP1VeEaK8Ae0/WXtsItkK7T9cmMei9RPtP2C1IiMSHe0/ZNJ9oy4m7T9n79gjSy/tP2sMNKRnOO0/bimPJIRB7T9yRuqkoErtP3VjRSW9U+0/eYCgpdlc7T98nfsl9mXtP4C6VqYSb+0/hNexJi947T+H9AynS4HtP4sRaCdoiu0/ji7Dp4ST7T+SSx4ooZztP5Voeai9pe0/mYXUKNqu7T+coi+p9rftP6C/iikTwe0/pNzlqS/K7T+n+UAqTNPtP6sWnKpo3O0/rjP3KoXl7T+yUFKroe7tP7VtrSu+9+0/uYoIrNoA7j+8p2Ms9wnuP8DEvqwTE+4/xOEZLTAc7j/H/nStTCXuP8sb0C1pLu4/zjgrroU37j/SVYYuokDuP9Vy4a6+Se4/2Y88L9tS7j/crJev91vuP+DJ8i8UZe4/5OZNsDBu7j/nA6kwTXfuP+sgBLFpgO4/7j1fMYaJ7j/yWrqxopLuP/V3FTK/m+4/+ZRwstuk7j/8scsy+K3uPwDPJrMUt+4/BOyBMzHA7j8HCd2zTcnuPwsmODRq0u4/DkOTtIbb7j8SYO40o+TuPxV9SbW/7e4/GZqkNdz27j8ct/+1+P/uPyDUWjYVCe8/JPG1tjES7z8nDhE3ThvvPysrbLdqJO8/LkjHN4ct7z8yZSK4ozbvPzWCfTjAP+8/OZ/YuNxI7z88vDM5+VHvP0DZjrkVW+8/RPbpOTJk7z9HE0W6Tm3vP0swoDprdu8/Tk37uod/7z9SalY7pIjvP1WHsbvAke8/WaQMPN2a7z9cwWe8+aPvP2DewjwWre8/ZPsdvTK27z9nGHk9T7/vP2s11L1ryO8/blIvPojR7z9yb4q+pNrvP3WM5T7B4+8/ealAv93s7z98xps/+vXvP4Dj9r8W/+8/AAgBpIBmUD8AiB2twE9hPwCKOghBbGo/AMersWDEcT8ASTrfoFJ2PwDLyAzh4Ho/AExXOiFvfz8A5/KzsP6BPwAousrQRYQ/AGmB4fCMhj8Aqkj4ENSIP4DqDw8xG4s/gCvXJVFijT+AbJ48camPP8DWsqlI+JA/AHcWtdgbkj+AF3rAaD+TPwC43cv4YpQ/gFhB14iGlT8A+aTiGKqWP0CZCO6ozZc/wDls+TjxmD9A2s8EyRSaP8B6MxBZOJs/ABuXG+lbnD+Au/omeX+dPwBcXjIJo54/gPzBPZnGnz+AzpKkFHWgP6CeRKrcBqE/4G72r6SYoT8gP6i1bCqiP2APWrs0vKI/gN8LwfxNoz/Ar73GxN+jPwCAb8yMcaQ/QFAh0lQDpT+AINPXHJWlP6DwhN3kJqY/4MA246y4pj8gkejodEqnP2Bhmu483Kc/gDFM9ARuqD/AAf75zP+oPwDSr/+Ukak/QKJhBV0jqj+AchMLJbWqP6BCxRDtRqs/4BJ3FrXYqz8g4ygcfWqsP2Cz2iFF/Kw/gIOMJw2OrT/AUz4t1R+uPwAk8DKdsa4/QPShOGVDrz+AxFM+LdWvP1DKAqJ6M7A/cLLbpF58sD+QmrSnQsWwP7CCjaomDrE/wGpmrQpXsT/gUj+w7p+xPwA7GLPS6LE/ICPxtbYxsj9AC8q4mnqyP1Dzort+w7I/cNt7vmIMsz+Qw1TBRlWzP7CrLcQqnrM/wJMGxw7nsz/ge9/J8i+0PwBkuMzWeLQ/IEyRz7rBtD9ANGrSngq1P1AcQ9WCU7U/cAQc2GactT+Q7PTaSuW1P7DUzd0uLrY/wLym4BJ3tj/gpH/j9r+2PwCNWObaCLc/IHUx6b5Rtz9AXQrsopq3P1BF4+6G47c/cC288WosuD+QFZX0TnW4P7D9bfcyvrg/wOVG+hYHuT/gzR/9+k+5PwC2+P/emLk/IJ7RAsPhuT9AhqoFpyq6P1BugwiLc7o/cFZcC2+8uj+QPjUOUwW7P7AmDhE3Trs/wA7nExuXuz/g9r8W/9+7PwDfmBnjKLw/IMdxHMdxvD8=",
        "encoding": "base64",
        "path": [
         "_data",
         0,
         "y",
         "value"
        ]
       }
      ],
      "model_module": "jupyterlab-plotly",
      "model_module_version": "^5.1.0",
      "model_name": "FigureModel",
      "state": {
       "_config": {
        "plotlyServerURL": "https://plot.ly"
       },
       "_data": [
        {
         "type": "scatter",
         "uid": "5f07b41e-a03d-4bb4-b854-d18bdacc1e5f",
         "x": {
          "dtype": "float64",
          "shape": [
           1000
          ]
         },
         "y": {
          "dtype": "float64",
          "shape": [
           1000
          ]
         }
        }
       ],
       "_js2py_pointsCallback": {},
       "_js2py_relayout": {},
       "_js2py_restyle": {},
       "_js2py_update": {},
       "_last_layout_edit_id": 1,
       "_last_trace_edit_id": 1,
       "_layout": {
        "height": 500,
        "template": {
         "data": {
          "scatter": [
           {
            "type": "scatter"
           }
          ]
         }
        },
        "title": {
         "text": "Flashes of a single firefly",
         "x": 0.5
        },
        "width": 800,
        "xaxis": {
         "title": {
          "text": "t"
         }
        },
        "yaxis": {
         "title": {
          "text": "θ"
         }
        }
       },
       "_py2js_addTraces": {},
       "_py2js_animate": {},
       "_py2js_deleteTraces": {},
       "_py2js_moveTraces": {},
       "_py2js_removeLayoutProps": {},
       "_py2js_removeTraceProps": {},
       "_py2js_restyle": {},
       "_view_count": 1
      }
     },
     "0ed1f5961aaf466caf5d3a0bf036cc5c": {
      "model_module": "@jupyter-widgets/controls",
      "model_module_version": "1.5.0",
      "model_name": "VBoxModel",
      "state": {
       "children": [
        "IPY_MODEL_50012846bcf74c5091adc67a8fb53b1e",
        "IPY_MODEL_0907b64a25a3414a9a048b8edde88be0"
       ],
       "layout": "IPY_MODEL_4d7dbd81be1a48b6903a1e47ab8c566d"
      }
     },
     "1b49b1ce3f014d87a04051533d674b1a": {
      "model_module": "@jupyter-widgets/base",
      "model_module_version": "1.2.0",
      "model_name": "LayoutModel",
      "state": {}
     },
     "21571cdcf6364284a6f8bb556ce856b0": {
      "model_module": "@jupyter-widgets/base",
      "model_module_version": "1.2.0",
      "model_name": "LayoutModel",
      "state": {}
     },
     "3d2a2fd88cd04a778ab47c3a44e89c77": {
      "model_module": "@jupyter-widgets/controls",
      "model_module_version": "1.5.0",
      "model_name": "FloatSliderModel",
      "state": {
       "description": "period T",
       "layout": "IPY_MODEL_21571cdcf6364284a6f8bb556ce856b0",
       "max": 10,
       "min": 1,
       "style": "IPY_MODEL_86f2f81637734652a5f629d35431d597",
       "value": 9
      }
     },
     "4d7dbd81be1a48b6903a1e47ab8c566d": {
      "model_module": "@jupyter-widgets/base",
      "model_module_version": "1.2.0",
      "model_name": "LayoutModel",
      "state": {}
     },
     "50012846bcf74c5091adc67a8fb53b1e": {
      "model_module": "@jupyter-widgets/controls",
      "model_module_version": "1.5.0",
      "model_name": "HBoxModel",
      "state": {
       "children": [
        "IPY_MODEL_d46055adbd2a4158bc80578064e26723",
        "IPY_MODEL_5930b2646439420eb964a15d36bfcb05"
       ],
       "layout": "IPY_MODEL_b2fad18fa8a44198b90fcd774f788893"
      }
     },
     "54162cdc47fe4149a2c9dbd9b3e6538e": {
      "model_module": "@jupyter-widgets/base",
      "model_module_version": "1.2.0",
      "model_name": "LayoutModel",
      "state": {}
     },
     "55cfa6d480df41cb887d50d3bc39451d": {
      "model_module": "@jupyter-widgets/controls",
      "model_module_version": "1.5.0",
      "model_name": "VBoxModel",
      "state": {
       "children": [
        "IPY_MODEL_b884fcb2df044905a9d89b01ba729ce2",
        "IPY_MODEL_eaaa8d376fe34886ac39bc93b94d874a"
       ],
       "layout": "IPY_MODEL_b269616f4b164d698b5eff76a6f3ad66"
      }
     },
     "5930b2646439420eb964a15d36bfcb05": {
      "model_module": "@jupyter-widgets/controls",
      "model_module_version": "1.5.0",
      "model_name": "IntSliderModel",
      "state": {
       "layout": "IPY_MODEL_c9a93e44f3784266981b437d544dff03",
       "max": 2000,
       "step": 10,
       "style": "IPY_MODEL_a1e0049d31124ba3b9dc7dc9d0c8e709"
      }
     },
     "5dc8d36a058c4aa3a56592f1052bac80": {
      "model_module": "@jupyter-widgets/controls",
      "model_module_version": "1.5.0",
      "model_name": "DescriptionStyleModel",
      "state": {
       "description_width": ""
      }
     },
     "86f2f81637734652a5f629d35431d597": {
      "model_module": "@jupyter-widgets/controls",
      "model_module_version": "1.5.0",
      "model_name": "SliderStyleModel",
      "state": {
       "description_width": ""
      }
     },
     "a03b020918d64518aacc367a501dcc7b": {
      "model_module": "@jupyter-widgets/controls",
      "model_module_version": "1.5.0",
      "model_name": "LinkModel",
      "state": {
       "source": [
        "IPY_MODEL_d46055adbd2a4158bc80578064e26723",
        "value"
       ],
       "target": [
        "IPY_MODEL_5930b2646439420eb964a15d36bfcb05",
        "value"
       ]
      }
     },
     "a1e0049d31124ba3b9dc7dc9d0c8e709": {
      "model_module": "@jupyter-widgets/controls",
      "model_module_version": "1.5.0",
      "model_name": "SliderStyleModel",
      "state": {
       "description_width": ""
      }
     },
     "b269616f4b164d698b5eff76a6f3ad66": {
      "model_module": "@jupyter-widgets/base",
      "model_module_version": "1.2.0",
      "model_name": "LayoutModel",
      "state": {}
     },
     "b2fad18fa8a44198b90fcd774f788893": {
      "model_module": "@jupyter-widgets/base",
      "model_module_version": "1.2.0",
      "model_name": "LayoutModel",
      "state": {}
     },
     "b884fcb2df044905a9d89b01ba729ce2": {
      "model_module": "@jupyter-widgets/controls",
      "model_module_version": "1.5.0",
      "model_name": "FloatSliderModel",
      "state": {
       "description": "Amplitude",
       "description_tooltip": "Amplitude of the resetting strength\n (it measures the firefly’s ability to modify its instantaneous frequency)",
       "layout": "IPY_MODEL_1b49b1ce3f014d87a04051533d674b1a",
       "max": 0.22,
       "step": 0.01,
       "style": "IPY_MODEL_f1541919c6bb4cb19e30eb56e6b365aa",
       "value": 0.02
      }
     },
     "c9a93e44f3784266981b437d544dff03": {
      "model_module": "@jupyter-widgets/base",
      "model_module_version": "1.2.0",
      "model_name": "LayoutModel",
      "state": {}
     },
     "d46055adbd2a4158bc80578064e26723": {
      "model_module": "@jupyter-widgets/controls",
      "model_module_version": "1.5.0",
      "model_name": "PlayModel",
      "state": {
       "description": "Press play",
       "layout": "IPY_MODEL_54162cdc47fe4149a2c9dbd9b3e6538e",
       "max": 2000,
       "step": 10,
       "style": "IPY_MODEL_5dc8d36a058c4aa3a56592f1052bac80"
      }
     },
     "ddca1a3e818245f1b9fbb415e8d78ca6": {
      "model_module": "@jupyter-widgets/controls",
      "model_module_version": "1.5.0",
      "model_name": "VBoxModel",
      "state": {
       "children": [
        "IPY_MODEL_3d2a2fd88cd04a778ab47c3a44e89c77",
        "IPY_MODEL_0df47612b9764ff3827c83771586b702"
       ],
       "layout": "IPY_MODEL_fc1daf2e5cc44f9882947de736d88f1b"
      }
     },
     "eaaa8d376fe34886ac39bc93b94d874a": {
      "buffers": [
       {
        "data": "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",
        "encoding": "base64",
        "path": [
         "_data",
         0,
         "x",
         "value"
        ]
       },
       {
        "data": "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",
        "encoding": "base64",
        "path": [
         "_data",
         0,
         "y",
         "value"
        ]
       },
       {
        "data": "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",
        "encoding": "base64",
        "path": [
         "_data",
         1,
         "x",
         "value"
        ]
       },
       {
        "data": "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",
        "encoding": "base64",
        "path": [
         "_data",
         1,
         "y",
         "value"
        ]
       },
       {
        "data": "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",
        "encoding": "base64",
        "path": [
         "_data",
         2,
         "x",
         "value"
        ]
       },
       {
        "data": "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",
        "encoding": "base64",
        "path": [
         "_data",
         2,
         "y",
         "value"
        ]
       }
      ],
      "model_module": "jupyterlab-plotly",
      "model_module_version": "^5.1.0",
      "model_name": "FigureModel",
      "state": {
       "_config": {
        "plotlyServerURL": "https://plot.ly"
       },
       "_data": [
        {
         "name": "with coupling",
         "type": "scatter",
         "uid": "f637af08-1089-487d-97f0-8dd490cc26a8",
         "x": {
          "dtype": "float64",
          "shape": [
           1000
          ]
         },
         "y": {
          "dtype": "float64",
          "shape": [
           1000
          ]
         }
        },
        {
         "name": "no coupling",
         "type": "scatter",
         "uid": "aa474220-9527-4b97-bd9d-86db0405787e",
         "x": {
          "dtype": "float64",
          "shape": [
           1000
          ]
         },
         "y": {
          "dtype": "float64",
          "shape": [
           1000
          ]
         }
        },
        {
         "name": "with coupling (band-pass)",
         "type": "scatter",
         "uid": "c6c8a051-ff86-4d70-a80e-2d3caf1e9e2e",
         "visible": "legendonly",
         "x": {
          "dtype": "float64",
          "shape": [
           1000
          ]
         },
         "y": {
          "dtype": "float64",
          "shape": [
           1000
          ]
         }
        }
       ],
       "_js2py_pointsCallback": {},
       "_js2py_relayout": {},
       "_js2py_restyle": {},
       "_js2py_update": {},
       "_last_layout_edit_id": 1,
       "_last_trace_edit_id": 1,
       "_layout": {
        "height": 500,
        "legend": {
         "title": {
          "font": {
           "color": "FireBrick",
           "size": 16
          },
          "text": "Click to deselect"
         }
        },
        "template": {
         "data": {
          "scatter": [
           {
            "type": "scatter"
           }
          ]
         }
        },
        "title": {
         "text": "Influence of the resetting strength",
         "x": 0.5
        },
        "width": 800,
        "xaxis": {
         "title": {
          "text": "θ<sub>t<sub>"
         }
        },
        "yaxis": {
         "title": {
          "text": "θ<sub>t+1<sub>"
         }
        }
       },
       "_py2js_addTraces": {},
       "_py2js_animate": {},
       "_py2js_deleteTraces": {},
       "_py2js_moveTraces": {},
       "_py2js_removeLayoutProps": {},
       "_py2js_removeTraceProps": {},
       "_py2js_restyle": {},
       "_view_count": 1
      }
     },
     "f1541919c6bb4cb19e30eb56e6b365aa": {
      "model_module": "@jupyter-widgets/controls",
      "model_module_version": "1.5.0",
      "model_name": "SliderStyleModel",
      "state": {
       "description_width": ""
      }
     },
     "fc1daf2e5cc44f9882947de736d88f1b": {
      "model_module": "@jupyter-widgets/base",
      "model_module_version": "1.2.0",
      "model_name": "LayoutModel",
      "state": {}
     }
    },
    "version_major": 2,
    "version_minor": 0
   }
  }
 },
 "nbformat": 4,
 "nbformat_minor": 4
}
